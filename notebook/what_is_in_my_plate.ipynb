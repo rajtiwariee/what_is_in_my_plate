{
  "nbformat": 4,
  "nbformat_minor": 0,
  "metadata": {
    "colab": {
      "provenance": [],
      "gpuType": "T4"
    },
    "kernelspec": {
      "name": "python3",
      "display_name": "Python 3"
    },
    "language_info": {
      "name": "python"
    },
    "accelerator": "GPU",
    "widgets": {
      "application/vnd.jupyter.widget-state+json": {
        "6dcfc83b4e23405c81a7098cf60438ff": {
          "model_module": "@jupyter-widgets/controls",
          "model_name": "HBoxModel",
          "model_module_version": "1.5.0",
          "state": {
            "_dom_classes": [],
            "_model_module": "@jupyter-widgets/controls",
            "_model_module_version": "1.5.0",
            "_model_name": "HBoxModel",
            "_view_count": null,
            "_view_module": "@jupyter-widgets/controls",
            "_view_module_version": "1.5.0",
            "_view_name": "HBoxView",
            "box_style": "",
            "children": [
              "IPY_MODEL_b1764db883b449f9962973fefc264378",
              "IPY_MODEL_656cc0ad3b6248d3b1760a723b23abf6",
              "IPY_MODEL_43e56499632f4a788ef983522b8767d8"
            ],
            "layout": "IPY_MODEL_9c2a3e2c60c44a55a0c3a7cfa44b2a05"
          }
        },
        "b1764db883b449f9962973fefc264378": {
          "model_module": "@jupyter-widgets/controls",
          "model_name": "HTMLModel",
          "model_module_version": "1.5.0",
          "state": {
            "_dom_classes": [],
            "_model_module": "@jupyter-widgets/controls",
            "_model_module_version": "1.5.0",
            "_model_name": "HTMLModel",
            "_view_count": null,
            "_view_module": "@jupyter-widgets/controls",
            "_view_module_version": "1.5.0",
            "_view_name": "HTMLView",
            "description": "",
            "description_tooltip": null,
            "layout": "IPY_MODEL_54b76436c1854f4ca58f8507b685b5f1",
            "placeholder": "​",
            "style": "IPY_MODEL_61a775eb36024633b9532894aeed865f",
            "value": "Dl Completed...: 100%"
          }
        },
        "656cc0ad3b6248d3b1760a723b23abf6": {
          "model_module": "@jupyter-widgets/controls",
          "model_name": "FloatProgressModel",
          "model_module_version": "1.5.0",
          "state": {
            "_dom_classes": [],
            "_model_module": "@jupyter-widgets/controls",
            "_model_module_version": "1.5.0",
            "_model_name": "FloatProgressModel",
            "_view_count": null,
            "_view_module": "@jupyter-widgets/controls",
            "_view_module_version": "1.5.0",
            "_view_name": "ProgressView",
            "bar_style": "info",
            "description": "",
            "description_tooltip": null,
            "layout": "IPY_MODEL_a9496d71157d4c7db79337b0e3e4dbba",
            "max": 1,
            "min": 0,
            "orientation": "horizontal",
            "style": "IPY_MODEL_5c079f33bbb24e9692dd580bea416a7a",
            "value": 1
          }
        },
        "43e56499632f4a788ef983522b8767d8": {
          "model_module": "@jupyter-widgets/controls",
          "model_name": "HTMLModel",
          "model_module_version": "1.5.0",
          "state": {
            "_dom_classes": [],
            "_model_module": "@jupyter-widgets/controls",
            "_model_module_version": "1.5.0",
            "_model_name": "HTMLModel",
            "_view_count": null,
            "_view_module": "@jupyter-widgets/controls",
            "_view_module_version": "1.5.0",
            "_view_name": "HTMLView",
            "description": "",
            "description_tooltip": null,
            "layout": "IPY_MODEL_634c295756334063b4e7e5b9f3552337",
            "placeholder": "​",
            "style": "IPY_MODEL_a7c3f6a6b6994515a78881727eea6da4",
            "value": " 1/1 [11:16&lt;00:00, 338.67s/ url]"
          }
        },
        "9c2a3e2c60c44a55a0c3a7cfa44b2a05": {
          "model_module": "@jupyter-widgets/base",
          "model_name": "LayoutModel",
          "model_module_version": "1.2.0",
          "state": {
            "_model_module": "@jupyter-widgets/base",
            "_model_module_version": "1.2.0",
            "_model_name": "LayoutModel",
            "_view_count": null,
            "_view_module": "@jupyter-widgets/base",
            "_view_module_version": "1.2.0",
            "_view_name": "LayoutView",
            "align_content": null,
            "align_items": null,
            "align_self": null,
            "border": null,
            "bottom": null,
            "display": null,
            "flex": null,
            "flex_flow": null,
            "grid_area": null,
            "grid_auto_columns": null,
            "grid_auto_flow": null,
            "grid_auto_rows": null,
            "grid_column": null,
            "grid_gap": null,
            "grid_row": null,
            "grid_template_areas": null,
            "grid_template_columns": null,
            "grid_template_rows": null,
            "height": null,
            "justify_content": null,
            "justify_items": null,
            "left": null,
            "margin": null,
            "max_height": null,
            "max_width": null,
            "min_height": null,
            "min_width": null,
            "object_fit": null,
            "object_position": null,
            "order": null,
            "overflow": null,
            "overflow_x": null,
            "overflow_y": null,
            "padding": null,
            "right": null,
            "top": null,
            "visibility": null,
            "width": null
          }
        },
        "54b76436c1854f4ca58f8507b685b5f1": {
          "model_module": "@jupyter-widgets/base",
          "model_name": "LayoutModel",
          "model_module_version": "1.2.0",
          "state": {
            "_model_module": "@jupyter-widgets/base",
            "_model_module_version": "1.2.0",
            "_model_name": "LayoutModel",
            "_view_count": null,
            "_view_module": "@jupyter-widgets/base",
            "_view_module_version": "1.2.0",
            "_view_name": "LayoutView",
            "align_content": null,
            "align_items": null,
            "align_self": null,
            "border": null,
            "bottom": null,
            "display": null,
            "flex": null,
            "flex_flow": null,
            "grid_area": null,
            "grid_auto_columns": null,
            "grid_auto_flow": null,
            "grid_auto_rows": null,
            "grid_column": null,
            "grid_gap": null,
            "grid_row": null,
            "grid_template_areas": null,
            "grid_template_columns": null,
            "grid_template_rows": null,
            "height": null,
            "justify_content": null,
            "justify_items": null,
            "left": null,
            "margin": null,
            "max_height": null,
            "max_width": null,
            "min_height": null,
            "min_width": null,
            "object_fit": null,
            "object_position": null,
            "order": null,
            "overflow": null,
            "overflow_x": null,
            "overflow_y": null,
            "padding": null,
            "right": null,
            "top": null,
            "visibility": null,
            "width": null
          }
        },
        "61a775eb36024633b9532894aeed865f": {
          "model_module": "@jupyter-widgets/controls",
          "model_name": "DescriptionStyleModel",
          "model_module_version": "1.5.0",
          "state": {
            "_model_module": "@jupyter-widgets/controls",
            "_model_module_version": "1.5.0",
            "_model_name": "DescriptionStyleModel",
            "_view_count": null,
            "_view_module": "@jupyter-widgets/base",
            "_view_module_version": "1.2.0",
            "_view_name": "StyleView",
            "description_width": ""
          }
        },
        "a9496d71157d4c7db79337b0e3e4dbba": {
          "model_module": "@jupyter-widgets/base",
          "model_name": "LayoutModel",
          "model_module_version": "1.2.0",
          "state": {
            "_model_module": "@jupyter-widgets/base",
            "_model_module_version": "1.2.0",
            "_model_name": "LayoutModel",
            "_view_count": null,
            "_view_module": "@jupyter-widgets/base",
            "_view_module_version": "1.2.0",
            "_view_name": "LayoutView",
            "align_content": null,
            "align_items": null,
            "align_self": null,
            "border": null,
            "bottom": null,
            "display": null,
            "flex": null,
            "flex_flow": null,
            "grid_area": null,
            "grid_auto_columns": null,
            "grid_auto_flow": null,
            "grid_auto_rows": null,
            "grid_column": null,
            "grid_gap": null,
            "grid_row": null,
            "grid_template_areas": null,
            "grid_template_columns": null,
            "grid_template_rows": null,
            "height": null,
            "justify_content": null,
            "justify_items": null,
            "left": null,
            "margin": null,
            "max_height": null,
            "max_width": null,
            "min_height": null,
            "min_width": null,
            "object_fit": null,
            "object_position": null,
            "order": null,
            "overflow": null,
            "overflow_x": null,
            "overflow_y": null,
            "padding": null,
            "right": null,
            "top": null,
            "visibility": null,
            "width": "20px"
          }
        },
        "5c079f33bbb24e9692dd580bea416a7a": {
          "model_module": "@jupyter-widgets/controls",
          "model_name": "ProgressStyleModel",
          "model_module_version": "1.5.0",
          "state": {
            "_model_module": "@jupyter-widgets/controls",
            "_model_module_version": "1.5.0",
            "_model_name": "ProgressStyleModel",
            "_view_count": null,
            "_view_module": "@jupyter-widgets/base",
            "_view_module_version": "1.2.0",
            "_view_name": "StyleView",
            "bar_color": null,
            "description_width": ""
          }
        },
        "634c295756334063b4e7e5b9f3552337": {
          "model_module": "@jupyter-widgets/base",
          "model_name": "LayoutModel",
          "model_module_version": "1.2.0",
          "state": {
            "_model_module": "@jupyter-widgets/base",
            "_model_module_version": "1.2.0",
            "_model_name": "LayoutModel",
            "_view_count": null,
            "_view_module": "@jupyter-widgets/base",
            "_view_module_version": "1.2.0",
            "_view_name": "LayoutView",
            "align_content": null,
            "align_items": null,
            "align_self": null,
            "border": null,
            "bottom": null,
            "display": null,
            "flex": null,
            "flex_flow": null,
            "grid_area": null,
            "grid_auto_columns": null,
            "grid_auto_flow": null,
            "grid_auto_rows": null,
            "grid_column": null,
            "grid_gap": null,
            "grid_row": null,
            "grid_template_areas": null,
            "grid_template_columns": null,
            "grid_template_rows": null,
            "height": null,
            "justify_content": null,
            "justify_items": null,
            "left": null,
            "margin": null,
            "max_height": null,
            "max_width": null,
            "min_height": null,
            "min_width": null,
            "object_fit": null,
            "object_position": null,
            "order": null,
            "overflow": null,
            "overflow_x": null,
            "overflow_y": null,
            "padding": null,
            "right": null,
            "top": null,
            "visibility": null,
            "width": null
          }
        },
        "a7c3f6a6b6994515a78881727eea6da4": {
          "model_module": "@jupyter-widgets/controls",
          "model_name": "DescriptionStyleModel",
          "model_module_version": "1.5.0",
          "state": {
            "_model_module": "@jupyter-widgets/controls",
            "_model_module_version": "1.5.0",
            "_model_name": "DescriptionStyleModel",
            "_view_count": null,
            "_view_module": "@jupyter-widgets/base",
            "_view_module_version": "1.2.0",
            "_view_name": "StyleView",
            "description_width": ""
          }
        },
        "10333093138b44e9877e19b74381838c": {
          "model_module": "@jupyter-widgets/controls",
          "model_name": "HBoxModel",
          "model_module_version": "1.5.0",
          "state": {
            "_dom_classes": [],
            "_model_module": "@jupyter-widgets/controls",
            "_model_module_version": "1.5.0",
            "_model_name": "HBoxModel",
            "_view_count": null,
            "_view_module": "@jupyter-widgets/controls",
            "_view_module_version": "1.5.0",
            "_view_name": "HBoxView",
            "box_style": "",
            "children": [
              "IPY_MODEL_b3f95951b92943b9a8ecd51ab5458ff0",
              "IPY_MODEL_f9105c17d64c4e90b317ef7bdc172bc1",
              "IPY_MODEL_1044de8dfcc94de887fb47d3baad20b6"
            ],
            "layout": "IPY_MODEL_23a8cc8ad7a849ca9933d8c7fdea06e6"
          }
        },
        "b3f95951b92943b9a8ecd51ab5458ff0": {
          "model_module": "@jupyter-widgets/controls",
          "model_name": "HTMLModel",
          "model_module_version": "1.5.0",
          "state": {
            "_dom_classes": [],
            "_model_module": "@jupyter-widgets/controls",
            "_model_module_version": "1.5.0",
            "_model_name": "HTMLModel",
            "_view_count": null,
            "_view_module": "@jupyter-widgets/controls",
            "_view_module_version": "1.5.0",
            "_view_name": "HTMLView",
            "description": "",
            "description_tooltip": null,
            "layout": "IPY_MODEL_db5118bda60b481ba51ee79a756cde2f",
            "placeholder": "​",
            "style": "IPY_MODEL_7b3d1ad10641453b8e564babf2f5ee33",
            "value": "Dl Size...: 100%"
          }
        },
        "f9105c17d64c4e90b317ef7bdc172bc1": {
          "model_module": "@jupyter-widgets/controls",
          "model_name": "FloatProgressModel",
          "model_module_version": "1.5.0",
          "state": {
            "_dom_classes": [],
            "_model_module": "@jupyter-widgets/controls",
            "_model_module_version": "1.5.0",
            "_model_name": "FloatProgressModel",
            "_view_count": null,
            "_view_module": "@jupyter-widgets/controls",
            "_view_module_version": "1.5.0",
            "_view_name": "ProgressView",
            "bar_style": "info",
            "description": "",
            "description_tooltip": null,
            "layout": "IPY_MODEL_0bc5ebb7faa64b959b908fe2157dedd4",
            "max": 1,
            "min": 0,
            "orientation": "horizontal",
            "style": "IPY_MODEL_6dbcd9503dba4d549f9280e590a4645e",
            "value": 1
          }
        },
        "1044de8dfcc94de887fb47d3baad20b6": {
          "model_module": "@jupyter-widgets/controls",
          "model_name": "HTMLModel",
          "model_module_version": "1.5.0",
          "state": {
            "_dom_classes": [],
            "_model_module": "@jupyter-widgets/controls",
            "_model_module_version": "1.5.0",
            "_model_name": "HTMLModel",
            "_view_count": null,
            "_view_module": "@jupyter-widgets/controls",
            "_view_module_version": "1.5.0",
            "_view_name": "HTMLView",
            "description": "",
            "description_tooltip": null,
            "layout": "IPY_MODEL_6190312ceb71472a8e8c89b816af55b2",
            "placeholder": "​",
            "style": "IPY_MODEL_071afee7dc4141b89b7f87e5fc36fb08",
            "value": " 4764/4764 [11:22&lt;00:00, 13.61 MiB/s]"
          }
        },
        "23a8cc8ad7a849ca9933d8c7fdea06e6": {
          "model_module": "@jupyter-widgets/base",
          "model_name": "LayoutModel",
          "model_module_version": "1.2.0",
          "state": {
            "_model_module": "@jupyter-widgets/base",
            "_model_module_version": "1.2.0",
            "_model_name": "LayoutModel",
            "_view_count": null,
            "_view_module": "@jupyter-widgets/base",
            "_view_module_version": "1.2.0",
            "_view_name": "LayoutView",
            "align_content": null,
            "align_items": null,
            "align_self": null,
            "border": null,
            "bottom": null,
            "display": null,
            "flex": null,
            "flex_flow": null,
            "grid_area": null,
            "grid_auto_columns": null,
            "grid_auto_flow": null,
            "grid_auto_rows": null,
            "grid_column": null,
            "grid_gap": null,
            "grid_row": null,
            "grid_template_areas": null,
            "grid_template_columns": null,
            "grid_template_rows": null,
            "height": null,
            "justify_content": null,
            "justify_items": null,
            "left": null,
            "margin": null,
            "max_height": null,
            "max_width": null,
            "min_height": null,
            "min_width": null,
            "object_fit": null,
            "object_position": null,
            "order": null,
            "overflow": null,
            "overflow_x": null,
            "overflow_y": null,
            "padding": null,
            "right": null,
            "top": null,
            "visibility": null,
            "width": null
          }
        },
        "db5118bda60b481ba51ee79a756cde2f": {
          "model_module": "@jupyter-widgets/base",
          "model_name": "LayoutModel",
          "model_module_version": "1.2.0",
          "state": {
            "_model_module": "@jupyter-widgets/base",
            "_model_module_version": "1.2.0",
            "_model_name": "LayoutModel",
            "_view_count": null,
            "_view_module": "@jupyter-widgets/base",
            "_view_module_version": "1.2.0",
            "_view_name": "LayoutView",
            "align_content": null,
            "align_items": null,
            "align_self": null,
            "border": null,
            "bottom": null,
            "display": null,
            "flex": null,
            "flex_flow": null,
            "grid_area": null,
            "grid_auto_columns": null,
            "grid_auto_flow": null,
            "grid_auto_rows": null,
            "grid_column": null,
            "grid_gap": null,
            "grid_row": null,
            "grid_template_areas": null,
            "grid_template_columns": null,
            "grid_template_rows": null,
            "height": null,
            "justify_content": null,
            "justify_items": null,
            "left": null,
            "margin": null,
            "max_height": null,
            "max_width": null,
            "min_height": null,
            "min_width": null,
            "object_fit": null,
            "object_position": null,
            "order": null,
            "overflow": null,
            "overflow_x": null,
            "overflow_y": null,
            "padding": null,
            "right": null,
            "top": null,
            "visibility": null,
            "width": null
          }
        },
        "7b3d1ad10641453b8e564babf2f5ee33": {
          "model_module": "@jupyter-widgets/controls",
          "model_name": "DescriptionStyleModel",
          "model_module_version": "1.5.0",
          "state": {
            "_model_module": "@jupyter-widgets/controls",
            "_model_module_version": "1.5.0",
            "_model_name": "DescriptionStyleModel",
            "_view_count": null,
            "_view_module": "@jupyter-widgets/base",
            "_view_module_version": "1.2.0",
            "_view_name": "StyleView",
            "description_width": ""
          }
        },
        "0bc5ebb7faa64b959b908fe2157dedd4": {
          "model_module": "@jupyter-widgets/base",
          "model_name": "LayoutModel",
          "model_module_version": "1.2.0",
          "state": {
            "_model_module": "@jupyter-widgets/base",
            "_model_module_version": "1.2.0",
            "_model_name": "LayoutModel",
            "_view_count": null,
            "_view_module": "@jupyter-widgets/base",
            "_view_module_version": "1.2.0",
            "_view_name": "LayoutView",
            "align_content": null,
            "align_items": null,
            "align_self": null,
            "border": null,
            "bottom": null,
            "display": null,
            "flex": null,
            "flex_flow": null,
            "grid_area": null,
            "grid_auto_columns": null,
            "grid_auto_flow": null,
            "grid_auto_rows": null,
            "grid_column": null,
            "grid_gap": null,
            "grid_row": null,
            "grid_template_areas": null,
            "grid_template_columns": null,
            "grid_template_rows": null,
            "height": null,
            "justify_content": null,
            "justify_items": null,
            "left": null,
            "margin": null,
            "max_height": null,
            "max_width": null,
            "min_height": null,
            "min_width": null,
            "object_fit": null,
            "object_position": null,
            "order": null,
            "overflow": null,
            "overflow_x": null,
            "overflow_y": null,
            "padding": null,
            "right": null,
            "top": null,
            "visibility": null,
            "width": "20px"
          }
        },
        "6dbcd9503dba4d549f9280e590a4645e": {
          "model_module": "@jupyter-widgets/controls",
          "model_name": "ProgressStyleModel",
          "model_module_version": "1.5.0",
          "state": {
            "_model_module": "@jupyter-widgets/controls",
            "_model_module_version": "1.5.0",
            "_model_name": "ProgressStyleModel",
            "_view_count": null,
            "_view_module": "@jupyter-widgets/base",
            "_view_module_version": "1.2.0",
            "_view_name": "StyleView",
            "bar_color": null,
            "description_width": ""
          }
        },
        "6190312ceb71472a8e8c89b816af55b2": {
          "model_module": "@jupyter-widgets/base",
          "model_name": "LayoutModel",
          "model_module_version": "1.2.0",
          "state": {
            "_model_module": "@jupyter-widgets/base",
            "_model_module_version": "1.2.0",
            "_model_name": "LayoutModel",
            "_view_count": null,
            "_view_module": "@jupyter-widgets/base",
            "_view_module_version": "1.2.0",
            "_view_name": "LayoutView",
            "align_content": null,
            "align_items": null,
            "align_self": null,
            "border": null,
            "bottom": null,
            "display": null,
            "flex": null,
            "flex_flow": null,
            "grid_area": null,
            "grid_auto_columns": null,
            "grid_auto_flow": null,
            "grid_auto_rows": null,
            "grid_column": null,
            "grid_gap": null,
            "grid_row": null,
            "grid_template_areas": null,
            "grid_template_columns": null,
            "grid_template_rows": null,
            "height": null,
            "justify_content": null,
            "justify_items": null,
            "left": null,
            "margin": null,
            "max_height": null,
            "max_width": null,
            "min_height": null,
            "min_width": null,
            "object_fit": null,
            "object_position": null,
            "order": null,
            "overflow": null,
            "overflow_x": null,
            "overflow_y": null,
            "padding": null,
            "right": null,
            "top": null,
            "visibility": null,
            "width": null
          }
        },
        "071afee7dc4141b89b7f87e5fc36fb08": {
          "model_module": "@jupyter-widgets/controls",
          "model_name": "DescriptionStyleModel",
          "model_module_version": "1.5.0",
          "state": {
            "_model_module": "@jupyter-widgets/controls",
            "_model_module_version": "1.5.0",
            "_model_name": "DescriptionStyleModel",
            "_view_count": null,
            "_view_module": "@jupyter-widgets/base",
            "_view_module_version": "1.2.0",
            "_view_name": "StyleView",
            "description_width": ""
          }
        },
        "5c45615f446e480bae5a1f1649010d77": {
          "model_module": "@jupyter-widgets/controls",
          "model_name": "HBoxModel",
          "model_module_version": "1.5.0",
          "state": {
            "_dom_classes": [],
            "_model_module": "@jupyter-widgets/controls",
            "_model_module_version": "1.5.0",
            "_model_name": "HBoxModel",
            "_view_count": null,
            "_view_module": "@jupyter-widgets/controls",
            "_view_module_version": "1.5.0",
            "_view_name": "HBoxView",
            "box_style": "",
            "children": [
              "IPY_MODEL_b2a0407b4d33428a8726d61312288b63",
              "IPY_MODEL_bc7b508a19ae4b78a01e5eaffcb5a78c",
              "IPY_MODEL_bc4443b80080408dbe6d686fde2309cc"
            ],
            "layout": "IPY_MODEL_808329486f6347edb15bb3c81d72ad1b"
          }
        },
        "b2a0407b4d33428a8726d61312288b63": {
          "model_module": "@jupyter-widgets/controls",
          "model_name": "HTMLModel",
          "model_module_version": "1.5.0",
          "state": {
            "_dom_classes": [],
            "_model_module": "@jupyter-widgets/controls",
            "_model_module_version": "1.5.0",
            "_model_name": "HTMLModel",
            "_view_count": null,
            "_view_module": "@jupyter-widgets/controls",
            "_view_module_version": "1.5.0",
            "_view_name": "HTMLView",
            "description": "",
            "description_tooltip": null,
            "layout": "IPY_MODEL_96d00d77f5b24e5fa97268ebb641e7a9",
            "placeholder": "​",
            "style": "IPY_MODEL_af0be5896c2c48b281c8b128842fa698",
            "value": "Extraction completed...: 100%"
          }
        },
        "bc7b508a19ae4b78a01e5eaffcb5a78c": {
          "model_module": "@jupyter-widgets/controls",
          "model_name": "FloatProgressModel",
          "model_module_version": "1.5.0",
          "state": {
            "_dom_classes": [],
            "_model_module": "@jupyter-widgets/controls",
            "_model_module_version": "1.5.0",
            "_model_name": "FloatProgressModel",
            "_view_count": null,
            "_view_module": "@jupyter-widgets/controls",
            "_view_module_version": "1.5.0",
            "_view_name": "ProgressView",
            "bar_style": "info",
            "description": "",
            "description_tooltip": null,
            "layout": "IPY_MODEL_c70c72adaab94c8f8baf7705c00ce49a",
            "max": 1,
            "min": 0,
            "orientation": "horizontal",
            "style": "IPY_MODEL_767b364badd64177b30892b112a4e5bc",
            "value": 1
          }
        },
        "bc4443b80080408dbe6d686fde2309cc": {
          "model_module": "@jupyter-widgets/controls",
          "model_name": "HTMLModel",
          "model_module_version": "1.5.0",
          "state": {
            "_dom_classes": [],
            "_model_module": "@jupyter-widgets/controls",
            "_model_module_version": "1.5.0",
            "_model_name": "HTMLModel",
            "_view_count": null,
            "_view_module": "@jupyter-widgets/controls",
            "_view_module_version": "1.5.0",
            "_view_name": "HTMLView",
            "description": "",
            "description_tooltip": null,
            "layout": "IPY_MODEL_0447decae1fa45a3a431c88577ca2ad1",
            "placeholder": "​",
            "style": "IPY_MODEL_fc869ceed0f4459e806094187908163b",
            "value": " 100833/101008 [11:22&lt;00:00, 968.57 file/s]"
          }
        },
        "808329486f6347edb15bb3c81d72ad1b": {
          "model_module": "@jupyter-widgets/base",
          "model_name": "LayoutModel",
          "model_module_version": "1.2.0",
          "state": {
            "_model_module": "@jupyter-widgets/base",
            "_model_module_version": "1.2.0",
            "_model_name": "LayoutModel",
            "_view_count": null,
            "_view_module": "@jupyter-widgets/base",
            "_view_module_version": "1.2.0",
            "_view_name": "LayoutView",
            "align_content": null,
            "align_items": null,
            "align_self": null,
            "border": null,
            "bottom": null,
            "display": null,
            "flex": null,
            "flex_flow": null,
            "grid_area": null,
            "grid_auto_columns": null,
            "grid_auto_flow": null,
            "grid_auto_rows": null,
            "grid_column": null,
            "grid_gap": null,
            "grid_row": null,
            "grid_template_areas": null,
            "grid_template_columns": null,
            "grid_template_rows": null,
            "height": null,
            "justify_content": null,
            "justify_items": null,
            "left": null,
            "margin": null,
            "max_height": null,
            "max_width": null,
            "min_height": null,
            "min_width": null,
            "object_fit": null,
            "object_position": null,
            "order": null,
            "overflow": null,
            "overflow_x": null,
            "overflow_y": null,
            "padding": null,
            "right": null,
            "top": null,
            "visibility": null,
            "width": null
          }
        },
        "96d00d77f5b24e5fa97268ebb641e7a9": {
          "model_module": "@jupyter-widgets/base",
          "model_name": "LayoutModel",
          "model_module_version": "1.2.0",
          "state": {
            "_model_module": "@jupyter-widgets/base",
            "_model_module_version": "1.2.0",
            "_model_name": "LayoutModel",
            "_view_count": null,
            "_view_module": "@jupyter-widgets/base",
            "_view_module_version": "1.2.0",
            "_view_name": "LayoutView",
            "align_content": null,
            "align_items": null,
            "align_self": null,
            "border": null,
            "bottom": null,
            "display": null,
            "flex": null,
            "flex_flow": null,
            "grid_area": null,
            "grid_auto_columns": null,
            "grid_auto_flow": null,
            "grid_auto_rows": null,
            "grid_column": null,
            "grid_gap": null,
            "grid_row": null,
            "grid_template_areas": null,
            "grid_template_columns": null,
            "grid_template_rows": null,
            "height": null,
            "justify_content": null,
            "justify_items": null,
            "left": null,
            "margin": null,
            "max_height": null,
            "max_width": null,
            "min_height": null,
            "min_width": null,
            "object_fit": null,
            "object_position": null,
            "order": null,
            "overflow": null,
            "overflow_x": null,
            "overflow_y": null,
            "padding": null,
            "right": null,
            "top": null,
            "visibility": null,
            "width": null
          }
        },
        "af0be5896c2c48b281c8b128842fa698": {
          "model_module": "@jupyter-widgets/controls",
          "model_name": "DescriptionStyleModel",
          "model_module_version": "1.5.0",
          "state": {
            "_model_module": "@jupyter-widgets/controls",
            "_model_module_version": "1.5.0",
            "_model_name": "DescriptionStyleModel",
            "_view_count": null,
            "_view_module": "@jupyter-widgets/base",
            "_view_module_version": "1.2.0",
            "_view_name": "StyleView",
            "description_width": ""
          }
        },
        "c70c72adaab94c8f8baf7705c00ce49a": {
          "model_module": "@jupyter-widgets/base",
          "model_name": "LayoutModel",
          "model_module_version": "1.2.0",
          "state": {
            "_model_module": "@jupyter-widgets/base",
            "_model_module_version": "1.2.0",
            "_model_name": "LayoutModel",
            "_view_count": null,
            "_view_module": "@jupyter-widgets/base",
            "_view_module_version": "1.2.0",
            "_view_name": "LayoutView",
            "align_content": null,
            "align_items": null,
            "align_self": null,
            "border": null,
            "bottom": null,
            "display": null,
            "flex": null,
            "flex_flow": null,
            "grid_area": null,
            "grid_auto_columns": null,
            "grid_auto_flow": null,
            "grid_auto_rows": null,
            "grid_column": null,
            "grid_gap": null,
            "grid_row": null,
            "grid_template_areas": null,
            "grid_template_columns": null,
            "grid_template_rows": null,
            "height": null,
            "justify_content": null,
            "justify_items": null,
            "left": null,
            "margin": null,
            "max_height": null,
            "max_width": null,
            "min_height": null,
            "min_width": null,
            "object_fit": null,
            "object_position": null,
            "order": null,
            "overflow": null,
            "overflow_x": null,
            "overflow_y": null,
            "padding": null,
            "right": null,
            "top": null,
            "visibility": null,
            "width": "20px"
          }
        },
        "767b364badd64177b30892b112a4e5bc": {
          "model_module": "@jupyter-widgets/controls",
          "model_name": "ProgressStyleModel",
          "model_module_version": "1.5.0",
          "state": {
            "_model_module": "@jupyter-widgets/controls",
            "_model_module_version": "1.5.0",
            "_model_name": "ProgressStyleModel",
            "_view_count": null,
            "_view_module": "@jupyter-widgets/base",
            "_view_module_version": "1.2.0",
            "_view_name": "StyleView",
            "bar_color": null,
            "description_width": ""
          }
        },
        "0447decae1fa45a3a431c88577ca2ad1": {
          "model_module": "@jupyter-widgets/base",
          "model_name": "LayoutModel",
          "model_module_version": "1.2.0",
          "state": {
            "_model_module": "@jupyter-widgets/base",
            "_model_module_version": "1.2.0",
            "_model_name": "LayoutModel",
            "_view_count": null,
            "_view_module": "@jupyter-widgets/base",
            "_view_module_version": "1.2.0",
            "_view_name": "LayoutView",
            "align_content": null,
            "align_items": null,
            "align_self": null,
            "border": null,
            "bottom": null,
            "display": null,
            "flex": null,
            "flex_flow": null,
            "grid_area": null,
            "grid_auto_columns": null,
            "grid_auto_flow": null,
            "grid_auto_rows": null,
            "grid_column": null,
            "grid_gap": null,
            "grid_row": null,
            "grid_template_areas": null,
            "grid_template_columns": null,
            "grid_template_rows": null,
            "height": null,
            "justify_content": null,
            "justify_items": null,
            "left": null,
            "margin": null,
            "max_height": null,
            "max_width": null,
            "min_height": null,
            "min_width": null,
            "object_fit": null,
            "object_position": null,
            "order": null,
            "overflow": null,
            "overflow_x": null,
            "overflow_y": null,
            "padding": null,
            "right": null,
            "top": null,
            "visibility": null,
            "width": null
          }
        },
        "fc869ceed0f4459e806094187908163b": {
          "model_module": "@jupyter-widgets/controls",
          "model_name": "DescriptionStyleModel",
          "model_module_version": "1.5.0",
          "state": {
            "_model_module": "@jupyter-widgets/controls",
            "_model_module_version": "1.5.0",
            "_model_name": "DescriptionStyleModel",
            "_view_count": null,
            "_view_module": "@jupyter-widgets/base",
            "_view_module_version": "1.2.0",
            "_view_name": "StyleView",
            "description_width": ""
          }
        },
        "c52152a0edcb4bd7a4d9d2022cae63c8": {
          "model_module": "@jupyter-widgets/controls",
          "model_name": "HBoxModel",
          "model_module_version": "1.5.0",
          "state": {
            "_dom_classes": [],
            "_model_module": "@jupyter-widgets/controls",
            "_model_module_version": "1.5.0",
            "_model_name": "HBoxModel",
            "_view_count": null,
            "_view_module": "@jupyter-widgets/controls",
            "_view_module_version": "1.5.0",
            "_view_name": "HBoxView",
            "box_style": "",
            "children": [
              "IPY_MODEL_1c5f547b3424413591dcdbdc5c8aac92",
              "IPY_MODEL_732ad521142e46ed9e1c4fc702149cbc",
              "IPY_MODEL_5b618d3fc84f484c9985c47f996168dc"
            ],
            "layout": "IPY_MODEL_938c504e08164ed7960c1eccce704dc3"
          }
        },
        "1c5f547b3424413591dcdbdc5c8aac92": {
          "model_module": "@jupyter-widgets/controls",
          "model_name": "HTMLModel",
          "model_module_version": "1.5.0",
          "state": {
            "_dom_classes": [],
            "_model_module": "@jupyter-widgets/controls",
            "_model_module_version": "1.5.0",
            "_model_name": "HTMLModel",
            "_view_count": null,
            "_view_module": "@jupyter-widgets/controls",
            "_view_module_version": "1.5.0",
            "_view_name": "HTMLView",
            "description": "",
            "description_tooltip": null,
            "layout": "IPY_MODEL_0b26dd9dbba04447868d9762d35d9f28",
            "placeholder": "​",
            "style": "IPY_MODEL_ad46bd8bd49a4d58936d997e7a3a1e49",
            "value": "Shuffling /root/tensorflow_datasets/food101/2.0.0.incomplete9JCC25/food101-train.tfrecord*...: 100%"
          }
        },
        "732ad521142e46ed9e1c4fc702149cbc": {
          "model_module": "@jupyter-widgets/controls",
          "model_name": "FloatProgressModel",
          "model_module_version": "1.5.0",
          "state": {
            "_dom_classes": [],
            "_model_module": "@jupyter-widgets/controls",
            "_model_module_version": "1.5.0",
            "_model_name": "FloatProgressModel",
            "_view_count": null,
            "_view_module": "@jupyter-widgets/controls",
            "_view_module_version": "1.5.0",
            "_view_name": "ProgressView",
            "bar_style": "",
            "description": "",
            "description_tooltip": null,
            "layout": "IPY_MODEL_e9f6dd71a0fc47f58fe39ebacb541e72",
            "max": 75750,
            "min": 0,
            "orientation": "horizontal",
            "style": "IPY_MODEL_49f96973275b4985948a1e4da9841411",
            "value": 75750
          }
        },
        "5b618d3fc84f484c9985c47f996168dc": {
          "model_module": "@jupyter-widgets/controls",
          "model_name": "HTMLModel",
          "model_module_version": "1.5.0",
          "state": {
            "_dom_classes": [],
            "_model_module": "@jupyter-widgets/controls",
            "_model_module_version": "1.5.0",
            "_model_name": "HTMLModel",
            "_view_count": null,
            "_view_module": "@jupyter-widgets/controls",
            "_view_module_version": "1.5.0",
            "_view_name": "HTMLView",
            "description": "",
            "description_tooltip": null,
            "layout": "IPY_MODEL_b2b102e64c7d41cd875b9e39a7a2bf48",
            "placeholder": "​",
            "style": "IPY_MODEL_c0abf52fc4e94c3a8f881d05cc5bc267",
            "value": " 75516/75750 [00:34&lt;00:00, 3001.77 examples/s]"
          }
        },
        "938c504e08164ed7960c1eccce704dc3": {
          "model_module": "@jupyter-widgets/base",
          "model_name": "LayoutModel",
          "model_module_version": "1.2.0",
          "state": {
            "_model_module": "@jupyter-widgets/base",
            "_model_module_version": "1.2.0",
            "_model_name": "LayoutModel",
            "_view_count": null,
            "_view_module": "@jupyter-widgets/base",
            "_view_module_version": "1.2.0",
            "_view_name": "LayoutView",
            "align_content": null,
            "align_items": null,
            "align_self": null,
            "border": null,
            "bottom": null,
            "display": null,
            "flex": null,
            "flex_flow": null,
            "grid_area": null,
            "grid_auto_columns": null,
            "grid_auto_flow": null,
            "grid_auto_rows": null,
            "grid_column": null,
            "grid_gap": null,
            "grid_row": null,
            "grid_template_areas": null,
            "grid_template_columns": null,
            "grid_template_rows": null,
            "height": null,
            "justify_content": null,
            "justify_items": null,
            "left": null,
            "margin": null,
            "max_height": null,
            "max_width": null,
            "min_height": null,
            "min_width": null,
            "object_fit": null,
            "object_position": null,
            "order": null,
            "overflow": null,
            "overflow_x": null,
            "overflow_y": null,
            "padding": null,
            "right": null,
            "top": null,
            "visibility": "hidden",
            "width": null
          }
        },
        "0b26dd9dbba04447868d9762d35d9f28": {
          "model_module": "@jupyter-widgets/base",
          "model_name": "LayoutModel",
          "model_module_version": "1.2.0",
          "state": {
            "_model_module": "@jupyter-widgets/base",
            "_model_module_version": "1.2.0",
            "_model_name": "LayoutModel",
            "_view_count": null,
            "_view_module": "@jupyter-widgets/base",
            "_view_module_version": "1.2.0",
            "_view_name": "LayoutView",
            "align_content": null,
            "align_items": null,
            "align_self": null,
            "border": null,
            "bottom": null,
            "display": null,
            "flex": null,
            "flex_flow": null,
            "grid_area": null,
            "grid_auto_columns": null,
            "grid_auto_flow": null,
            "grid_auto_rows": null,
            "grid_column": null,
            "grid_gap": null,
            "grid_row": null,
            "grid_template_areas": null,
            "grid_template_columns": null,
            "grid_template_rows": null,
            "height": null,
            "justify_content": null,
            "justify_items": null,
            "left": null,
            "margin": null,
            "max_height": null,
            "max_width": null,
            "min_height": null,
            "min_width": null,
            "object_fit": null,
            "object_position": null,
            "order": null,
            "overflow": null,
            "overflow_x": null,
            "overflow_y": null,
            "padding": null,
            "right": null,
            "top": null,
            "visibility": null,
            "width": null
          }
        },
        "ad46bd8bd49a4d58936d997e7a3a1e49": {
          "model_module": "@jupyter-widgets/controls",
          "model_name": "DescriptionStyleModel",
          "model_module_version": "1.5.0",
          "state": {
            "_model_module": "@jupyter-widgets/controls",
            "_model_module_version": "1.5.0",
            "_model_name": "DescriptionStyleModel",
            "_view_count": null,
            "_view_module": "@jupyter-widgets/base",
            "_view_module_version": "1.2.0",
            "_view_name": "StyleView",
            "description_width": ""
          }
        },
        "e9f6dd71a0fc47f58fe39ebacb541e72": {
          "model_module": "@jupyter-widgets/base",
          "model_name": "LayoutModel",
          "model_module_version": "1.2.0",
          "state": {
            "_model_module": "@jupyter-widgets/base",
            "_model_module_version": "1.2.0",
            "_model_name": "LayoutModel",
            "_view_count": null,
            "_view_module": "@jupyter-widgets/base",
            "_view_module_version": "1.2.0",
            "_view_name": "LayoutView",
            "align_content": null,
            "align_items": null,
            "align_self": null,
            "border": null,
            "bottom": null,
            "display": null,
            "flex": null,
            "flex_flow": null,
            "grid_area": null,
            "grid_auto_columns": null,
            "grid_auto_flow": null,
            "grid_auto_rows": null,
            "grid_column": null,
            "grid_gap": null,
            "grid_row": null,
            "grid_template_areas": null,
            "grid_template_columns": null,
            "grid_template_rows": null,
            "height": null,
            "justify_content": null,
            "justify_items": null,
            "left": null,
            "margin": null,
            "max_height": null,
            "max_width": null,
            "min_height": null,
            "min_width": null,
            "object_fit": null,
            "object_position": null,
            "order": null,
            "overflow": null,
            "overflow_x": null,
            "overflow_y": null,
            "padding": null,
            "right": null,
            "top": null,
            "visibility": null,
            "width": null
          }
        },
        "49f96973275b4985948a1e4da9841411": {
          "model_module": "@jupyter-widgets/controls",
          "model_name": "ProgressStyleModel",
          "model_module_version": "1.5.0",
          "state": {
            "_model_module": "@jupyter-widgets/controls",
            "_model_module_version": "1.5.0",
            "_model_name": "ProgressStyleModel",
            "_view_count": null,
            "_view_module": "@jupyter-widgets/base",
            "_view_module_version": "1.2.0",
            "_view_name": "StyleView",
            "bar_color": null,
            "description_width": ""
          }
        },
        "b2b102e64c7d41cd875b9e39a7a2bf48": {
          "model_module": "@jupyter-widgets/base",
          "model_name": "LayoutModel",
          "model_module_version": "1.2.0",
          "state": {
            "_model_module": "@jupyter-widgets/base",
            "_model_module_version": "1.2.0",
            "_model_name": "LayoutModel",
            "_view_count": null,
            "_view_module": "@jupyter-widgets/base",
            "_view_module_version": "1.2.0",
            "_view_name": "LayoutView",
            "align_content": null,
            "align_items": null,
            "align_self": null,
            "border": null,
            "bottom": null,
            "display": null,
            "flex": null,
            "flex_flow": null,
            "grid_area": null,
            "grid_auto_columns": null,
            "grid_auto_flow": null,
            "grid_auto_rows": null,
            "grid_column": null,
            "grid_gap": null,
            "grid_row": null,
            "grid_template_areas": null,
            "grid_template_columns": null,
            "grid_template_rows": null,
            "height": null,
            "justify_content": null,
            "justify_items": null,
            "left": null,
            "margin": null,
            "max_height": null,
            "max_width": null,
            "min_height": null,
            "min_width": null,
            "object_fit": null,
            "object_position": null,
            "order": null,
            "overflow": null,
            "overflow_x": null,
            "overflow_y": null,
            "padding": null,
            "right": null,
            "top": null,
            "visibility": null,
            "width": null
          }
        },
        "c0abf52fc4e94c3a8f881d05cc5bc267": {
          "model_module": "@jupyter-widgets/controls",
          "model_name": "DescriptionStyleModel",
          "model_module_version": "1.5.0",
          "state": {
            "_model_module": "@jupyter-widgets/controls",
            "_model_module_version": "1.5.0",
            "_model_name": "DescriptionStyleModel",
            "_view_count": null,
            "_view_module": "@jupyter-widgets/base",
            "_view_module_version": "1.2.0",
            "_view_name": "StyleView",
            "description_width": ""
          }
        },
        "4bd96258fce64bdfbbbd5b738178f62d": {
          "model_module": "@jupyter-widgets/controls",
          "model_name": "HBoxModel",
          "model_module_version": "1.5.0",
          "state": {
            "_dom_classes": [],
            "_model_module": "@jupyter-widgets/controls",
            "_model_module_version": "1.5.0",
            "_model_name": "HBoxModel",
            "_view_count": null,
            "_view_module": "@jupyter-widgets/controls",
            "_view_module_version": "1.5.0",
            "_view_name": "HBoxView",
            "box_style": "",
            "children": [
              "IPY_MODEL_cd221892a28044b2a8e9bc87401d4545",
              "IPY_MODEL_97d60c2573ef499cb9b64ae9d38df224",
              "IPY_MODEL_a478bf12cde74d9bb9b880a84bc52515"
            ],
            "layout": "IPY_MODEL_9c4359bcb3a04c868e0cdb5b459e335f"
          }
        },
        "cd221892a28044b2a8e9bc87401d4545": {
          "model_module": "@jupyter-widgets/controls",
          "model_name": "HTMLModel",
          "model_module_version": "1.5.0",
          "state": {
            "_dom_classes": [],
            "_model_module": "@jupyter-widgets/controls",
            "_model_module_version": "1.5.0",
            "_model_name": "HTMLModel",
            "_view_count": null,
            "_view_module": "@jupyter-widgets/controls",
            "_view_module_version": "1.5.0",
            "_view_name": "HTMLView",
            "description": "",
            "description_tooltip": null,
            "layout": "IPY_MODEL_6cd71518f4054ae0a3fc39ffceeba0c4",
            "placeholder": "​",
            "style": "IPY_MODEL_3a3117e518b843fdaeb90966e8751c5a",
            "value": "Generating validation examples...: 100%"
          }
        },
        "97d60c2573ef499cb9b64ae9d38df224": {
          "model_module": "@jupyter-widgets/controls",
          "model_name": "FloatProgressModel",
          "model_module_version": "1.5.0",
          "state": {
            "_dom_classes": [],
            "_model_module": "@jupyter-widgets/controls",
            "_model_module_version": "1.5.0",
            "_model_name": "FloatProgressModel",
            "_view_count": null,
            "_view_module": "@jupyter-widgets/controls",
            "_view_module_version": "1.5.0",
            "_view_name": "ProgressView",
            "bar_style": "",
            "description": "",
            "description_tooltip": null,
            "layout": "IPY_MODEL_a70127daf9614b13bfd059e87cebf899",
            "max": 25250,
            "min": 0,
            "orientation": "horizontal",
            "style": "IPY_MODEL_ffccb89562064142a2ce71d5ba086adb",
            "value": 25250
          }
        },
        "a478bf12cde74d9bb9b880a84bc52515": {
          "model_module": "@jupyter-widgets/controls",
          "model_name": "HTMLModel",
          "model_module_version": "1.5.0",
          "state": {
            "_dom_classes": [],
            "_model_module": "@jupyter-widgets/controls",
            "_model_module_version": "1.5.0",
            "_model_name": "HTMLModel",
            "_view_count": null,
            "_view_module": "@jupyter-widgets/controls",
            "_view_module_version": "1.5.0",
            "_view_name": "HTMLView",
            "description": "",
            "description_tooltip": null,
            "layout": "IPY_MODEL_a8e6e7f0eab640a1bf9bf169f3b4ade8",
            "placeholder": "​",
            "style": "IPY_MODEL_ead6cf454ff64b778b15cb3f5587a663",
            "value": " 25214/25250 [00:49&lt;00:00, 533.65 examples/s]"
          }
        },
        "9c4359bcb3a04c868e0cdb5b459e335f": {
          "model_module": "@jupyter-widgets/base",
          "model_name": "LayoutModel",
          "model_module_version": "1.2.0",
          "state": {
            "_model_module": "@jupyter-widgets/base",
            "_model_module_version": "1.2.0",
            "_model_name": "LayoutModel",
            "_view_count": null,
            "_view_module": "@jupyter-widgets/base",
            "_view_module_version": "1.2.0",
            "_view_name": "LayoutView",
            "align_content": null,
            "align_items": null,
            "align_self": null,
            "border": null,
            "bottom": null,
            "display": null,
            "flex": null,
            "flex_flow": null,
            "grid_area": null,
            "grid_auto_columns": null,
            "grid_auto_flow": null,
            "grid_auto_rows": null,
            "grid_column": null,
            "grid_gap": null,
            "grid_row": null,
            "grid_template_areas": null,
            "grid_template_columns": null,
            "grid_template_rows": null,
            "height": null,
            "justify_content": null,
            "justify_items": null,
            "left": null,
            "margin": null,
            "max_height": null,
            "max_width": null,
            "min_height": null,
            "min_width": null,
            "object_fit": null,
            "object_position": null,
            "order": null,
            "overflow": null,
            "overflow_x": null,
            "overflow_y": null,
            "padding": null,
            "right": null,
            "top": null,
            "visibility": "hidden",
            "width": null
          }
        },
        "6cd71518f4054ae0a3fc39ffceeba0c4": {
          "model_module": "@jupyter-widgets/base",
          "model_name": "LayoutModel",
          "model_module_version": "1.2.0",
          "state": {
            "_model_module": "@jupyter-widgets/base",
            "_model_module_version": "1.2.0",
            "_model_name": "LayoutModel",
            "_view_count": null,
            "_view_module": "@jupyter-widgets/base",
            "_view_module_version": "1.2.0",
            "_view_name": "LayoutView",
            "align_content": null,
            "align_items": null,
            "align_self": null,
            "border": null,
            "bottom": null,
            "display": null,
            "flex": null,
            "flex_flow": null,
            "grid_area": null,
            "grid_auto_columns": null,
            "grid_auto_flow": null,
            "grid_auto_rows": null,
            "grid_column": null,
            "grid_gap": null,
            "grid_row": null,
            "grid_template_areas": null,
            "grid_template_columns": null,
            "grid_template_rows": null,
            "height": null,
            "justify_content": null,
            "justify_items": null,
            "left": null,
            "margin": null,
            "max_height": null,
            "max_width": null,
            "min_height": null,
            "min_width": null,
            "object_fit": null,
            "object_position": null,
            "order": null,
            "overflow": null,
            "overflow_x": null,
            "overflow_y": null,
            "padding": null,
            "right": null,
            "top": null,
            "visibility": null,
            "width": null
          }
        },
        "3a3117e518b843fdaeb90966e8751c5a": {
          "model_module": "@jupyter-widgets/controls",
          "model_name": "DescriptionStyleModel",
          "model_module_version": "1.5.0",
          "state": {
            "_model_module": "@jupyter-widgets/controls",
            "_model_module_version": "1.5.0",
            "_model_name": "DescriptionStyleModel",
            "_view_count": null,
            "_view_module": "@jupyter-widgets/base",
            "_view_module_version": "1.2.0",
            "_view_name": "StyleView",
            "description_width": ""
          }
        },
        "a70127daf9614b13bfd059e87cebf899": {
          "model_module": "@jupyter-widgets/base",
          "model_name": "LayoutModel",
          "model_module_version": "1.2.0",
          "state": {
            "_model_module": "@jupyter-widgets/base",
            "_model_module_version": "1.2.0",
            "_model_name": "LayoutModel",
            "_view_count": null,
            "_view_module": "@jupyter-widgets/base",
            "_view_module_version": "1.2.0",
            "_view_name": "LayoutView",
            "align_content": null,
            "align_items": null,
            "align_self": null,
            "border": null,
            "bottom": null,
            "display": null,
            "flex": null,
            "flex_flow": null,
            "grid_area": null,
            "grid_auto_columns": null,
            "grid_auto_flow": null,
            "grid_auto_rows": null,
            "grid_column": null,
            "grid_gap": null,
            "grid_row": null,
            "grid_template_areas": null,
            "grid_template_columns": null,
            "grid_template_rows": null,
            "height": null,
            "justify_content": null,
            "justify_items": null,
            "left": null,
            "margin": null,
            "max_height": null,
            "max_width": null,
            "min_height": null,
            "min_width": null,
            "object_fit": null,
            "object_position": null,
            "order": null,
            "overflow": null,
            "overflow_x": null,
            "overflow_y": null,
            "padding": null,
            "right": null,
            "top": null,
            "visibility": null,
            "width": null
          }
        },
        "ffccb89562064142a2ce71d5ba086adb": {
          "model_module": "@jupyter-widgets/controls",
          "model_name": "ProgressStyleModel",
          "model_module_version": "1.5.0",
          "state": {
            "_model_module": "@jupyter-widgets/controls",
            "_model_module_version": "1.5.0",
            "_model_name": "ProgressStyleModel",
            "_view_count": null,
            "_view_module": "@jupyter-widgets/base",
            "_view_module_version": "1.2.0",
            "_view_name": "StyleView",
            "bar_color": null,
            "description_width": ""
          }
        },
        "a8e6e7f0eab640a1bf9bf169f3b4ade8": {
          "model_module": "@jupyter-widgets/base",
          "model_name": "LayoutModel",
          "model_module_version": "1.2.0",
          "state": {
            "_model_module": "@jupyter-widgets/base",
            "_model_module_version": "1.2.0",
            "_model_name": "LayoutModel",
            "_view_count": null,
            "_view_module": "@jupyter-widgets/base",
            "_view_module_version": "1.2.0",
            "_view_name": "LayoutView",
            "align_content": null,
            "align_items": null,
            "align_self": null,
            "border": null,
            "bottom": null,
            "display": null,
            "flex": null,
            "flex_flow": null,
            "grid_area": null,
            "grid_auto_columns": null,
            "grid_auto_flow": null,
            "grid_auto_rows": null,
            "grid_column": null,
            "grid_gap": null,
            "grid_row": null,
            "grid_template_areas": null,
            "grid_template_columns": null,
            "grid_template_rows": null,
            "height": null,
            "justify_content": null,
            "justify_items": null,
            "left": null,
            "margin": null,
            "max_height": null,
            "max_width": null,
            "min_height": null,
            "min_width": null,
            "object_fit": null,
            "object_position": null,
            "order": null,
            "overflow": null,
            "overflow_x": null,
            "overflow_y": null,
            "padding": null,
            "right": null,
            "top": null,
            "visibility": null,
            "width": null
          }
        },
        "ead6cf454ff64b778b15cb3f5587a663": {
          "model_module": "@jupyter-widgets/controls",
          "model_name": "DescriptionStyleModel",
          "model_module_version": "1.5.0",
          "state": {
            "_model_module": "@jupyter-widgets/controls",
            "_model_module_version": "1.5.0",
            "_model_name": "DescriptionStyleModel",
            "_view_count": null,
            "_view_module": "@jupyter-widgets/base",
            "_view_module_version": "1.2.0",
            "_view_name": "StyleView",
            "description_width": ""
          }
        },
        "64f87d02dd1c4a169d0b5aa4cd9a0ef5": {
          "model_module": "@jupyter-widgets/controls",
          "model_name": "HBoxModel",
          "model_module_version": "1.5.0",
          "state": {
            "_dom_classes": [],
            "_model_module": "@jupyter-widgets/controls",
            "_model_module_version": "1.5.0",
            "_model_name": "HBoxModel",
            "_view_count": null,
            "_view_module": "@jupyter-widgets/controls",
            "_view_module_version": "1.5.0",
            "_view_name": "HBoxView",
            "box_style": "",
            "children": [
              "IPY_MODEL_ef4f015497a74240b3b55b37a8174ff5",
              "IPY_MODEL_312d8a34d6c449e79694b708de72c637",
              "IPY_MODEL_b12586f093cf41ee805a9967dea709ab"
            ],
            "layout": "IPY_MODEL_7d2cce273cb44aafac32970f3e849c7f"
          }
        },
        "ef4f015497a74240b3b55b37a8174ff5": {
          "model_module": "@jupyter-widgets/controls",
          "model_name": "HTMLModel",
          "model_module_version": "1.5.0",
          "state": {
            "_dom_classes": [],
            "_model_module": "@jupyter-widgets/controls",
            "_model_module_version": "1.5.0",
            "_model_name": "HTMLModel",
            "_view_count": null,
            "_view_module": "@jupyter-widgets/controls",
            "_view_module_version": "1.5.0",
            "_view_name": "HTMLView",
            "description": "",
            "description_tooltip": null,
            "layout": "IPY_MODEL_07f7272e879a4620a0e98b9ab525dcc1",
            "placeholder": "​",
            "style": "IPY_MODEL_16c5c994386a4938bd72e9d40aaca083",
            "value": "Shuffling /root/tensorflow_datasets/food101/2.0.0.incomplete9JCC25/food101-validation.tfrecord*...: 100%"
          }
        },
        "312d8a34d6c449e79694b708de72c637": {
          "model_module": "@jupyter-widgets/controls",
          "model_name": "FloatProgressModel",
          "model_module_version": "1.5.0",
          "state": {
            "_dom_classes": [],
            "_model_module": "@jupyter-widgets/controls",
            "_model_module_version": "1.5.0",
            "_model_name": "FloatProgressModel",
            "_view_count": null,
            "_view_module": "@jupyter-widgets/controls",
            "_view_module_version": "1.5.0",
            "_view_name": "ProgressView",
            "bar_style": "",
            "description": "",
            "description_tooltip": null,
            "layout": "IPY_MODEL_ae287c6d19aa4c5ba2aa8d3c7476f870",
            "max": 25250,
            "min": 0,
            "orientation": "horizontal",
            "style": "IPY_MODEL_574c227dc8564eafbaa1c63070ea9507",
            "value": 25250
          }
        },
        "b12586f093cf41ee805a9967dea709ab": {
          "model_module": "@jupyter-widgets/controls",
          "model_name": "HTMLModel",
          "model_module_version": "1.5.0",
          "state": {
            "_dom_classes": [],
            "_model_module": "@jupyter-widgets/controls",
            "_model_module_version": "1.5.0",
            "_model_name": "HTMLModel",
            "_view_count": null,
            "_view_module": "@jupyter-widgets/controls",
            "_view_module_version": "1.5.0",
            "_view_name": "HTMLView",
            "description": "",
            "description_tooltip": null,
            "layout": "IPY_MODEL_24339df71dcf443199e3dfeacb61fa4c",
            "placeholder": "​",
            "style": "IPY_MODEL_d66f8501071f4011a88728b340e5f268",
            "value": " 25234/25250 [00:04&lt;00:00, 3404.10 examples/s]"
          }
        },
        "7d2cce273cb44aafac32970f3e849c7f": {
          "model_module": "@jupyter-widgets/base",
          "model_name": "LayoutModel",
          "model_module_version": "1.2.0",
          "state": {
            "_model_module": "@jupyter-widgets/base",
            "_model_module_version": "1.2.0",
            "_model_name": "LayoutModel",
            "_view_count": null,
            "_view_module": "@jupyter-widgets/base",
            "_view_module_version": "1.2.0",
            "_view_name": "LayoutView",
            "align_content": null,
            "align_items": null,
            "align_self": null,
            "border": null,
            "bottom": null,
            "display": null,
            "flex": null,
            "flex_flow": null,
            "grid_area": null,
            "grid_auto_columns": null,
            "grid_auto_flow": null,
            "grid_auto_rows": null,
            "grid_column": null,
            "grid_gap": null,
            "grid_row": null,
            "grid_template_areas": null,
            "grid_template_columns": null,
            "grid_template_rows": null,
            "height": null,
            "justify_content": null,
            "justify_items": null,
            "left": null,
            "margin": null,
            "max_height": null,
            "max_width": null,
            "min_height": null,
            "min_width": null,
            "object_fit": null,
            "object_position": null,
            "order": null,
            "overflow": null,
            "overflow_x": null,
            "overflow_y": null,
            "padding": null,
            "right": null,
            "top": null,
            "visibility": "hidden",
            "width": null
          }
        },
        "07f7272e879a4620a0e98b9ab525dcc1": {
          "model_module": "@jupyter-widgets/base",
          "model_name": "LayoutModel",
          "model_module_version": "1.2.0",
          "state": {
            "_model_module": "@jupyter-widgets/base",
            "_model_module_version": "1.2.0",
            "_model_name": "LayoutModel",
            "_view_count": null,
            "_view_module": "@jupyter-widgets/base",
            "_view_module_version": "1.2.0",
            "_view_name": "LayoutView",
            "align_content": null,
            "align_items": null,
            "align_self": null,
            "border": null,
            "bottom": null,
            "display": null,
            "flex": null,
            "flex_flow": null,
            "grid_area": null,
            "grid_auto_columns": null,
            "grid_auto_flow": null,
            "grid_auto_rows": null,
            "grid_column": null,
            "grid_gap": null,
            "grid_row": null,
            "grid_template_areas": null,
            "grid_template_columns": null,
            "grid_template_rows": null,
            "height": null,
            "justify_content": null,
            "justify_items": null,
            "left": null,
            "margin": null,
            "max_height": null,
            "max_width": null,
            "min_height": null,
            "min_width": null,
            "object_fit": null,
            "object_position": null,
            "order": null,
            "overflow": null,
            "overflow_x": null,
            "overflow_y": null,
            "padding": null,
            "right": null,
            "top": null,
            "visibility": null,
            "width": null
          }
        },
        "16c5c994386a4938bd72e9d40aaca083": {
          "model_module": "@jupyter-widgets/controls",
          "model_name": "DescriptionStyleModel",
          "model_module_version": "1.5.0",
          "state": {
            "_model_module": "@jupyter-widgets/controls",
            "_model_module_version": "1.5.0",
            "_model_name": "DescriptionStyleModel",
            "_view_count": null,
            "_view_module": "@jupyter-widgets/base",
            "_view_module_version": "1.2.0",
            "_view_name": "StyleView",
            "description_width": ""
          }
        },
        "ae287c6d19aa4c5ba2aa8d3c7476f870": {
          "model_module": "@jupyter-widgets/base",
          "model_name": "LayoutModel",
          "model_module_version": "1.2.0",
          "state": {
            "_model_module": "@jupyter-widgets/base",
            "_model_module_version": "1.2.0",
            "_model_name": "LayoutModel",
            "_view_count": null,
            "_view_module": "@jupyter-widgets/base",
            "_view_module_version": "1.2.0",
            "_view_name": "LayoutView",
            "align_content": null,
            "align_items": null,
            "align_self": null,
            "border": null,
            "bottom": null,
            "display": null,
            "flex": null,
            "flex_flow": null,
            "grid_area": null,
            "grid_auto_columns": null,
            "grid_auto_flow": null,
            "grid_auto_rows": null,
            "grid_column": null,
            "grid_gap": null,
            "grid_row": null,
            "grid_template_areas": null,
            "grid_template_columns": null,
            "grid_template_rows": null,
            "height": null,
            "justify_content": null,
            "justify_items": null,
            "left": null,
            "margin": null,
            "max_height": null,
            "max_width": null,
            "min_height": null,
            "min_width": null,
            "object_fit": null,
            "object_position": null,
            "order": null,
            "overflow": null,
            "overflow_x": null,
            "overflow_y": null,
            "padding": null,
            "right": null,
            "top": null,
            "visibility": null,
            "width": null
          }
        },
        "574c227dc8564eafbaa1c63070ea9507": {
          "model_module": "@jupyter-widgets/controls",
          "model_name": "ProgressStyleModel",
          "model_module_version": "1.5.0",
          "state": {
            "_model_module": "@jupyter-widgets/controls",
            "_model_module_version": "1.5.0",
            "_model_name": "ProgressStyleModel",
            "_view_count": null,
            "_view_module": "@jupyter-widgets/base",
            "_view_module_version": "1.2.0",
            "_view_name": "StyleView",
            "bar_color": null,
            "description_width": ""
          }
        },
        "24339df71dcf443199e3dfeacb61fa4c": {
          "model_module": "@jupyter-widgets/base",
          "model_name": "LayoutModel",
          "model_module_version": "1.2.0",
          "state": {
            "_model_module": "@jupyter-widgets/base",
            "_model_module_version": "1.2.0",
            "_model_name": "LayoutModel",
            "_view_count": null,
            "_view_module": "@jupyter-widgets/base",
            "_view_module_version": "1.2.0",
            "_view_name": "LayoutView",
            "align_content": null,
            "align_items": null,
            "align_self": null,
            "border": null,
            "bottom": null,
            "display": null,
            "flex": null,
            "flex_flow": null,
            "grid_area": null,
            "grid_auto_columns": null,
            "grid_auto_flow": null,
            "grid_auto_rows": null,
            "grid_column": null,
            "grid_gap": null,
            "grid_row": null,
            "grid_template_areas": null,
            "grid_template_columns": null,
            "grid_template_rows": null,
            "height": null,
            "justify_content": null,
            "justify_items": null,
            "left": null,
            "margin": null,
            "max_height": null,
            "max_width": null,
            "min_height": null,
            "min_width": null,
            "object_fit": null,
            "object_position": null,
            "order": null,
            "overflow": null,
            "overflow_x": null,
            "overflow_y": null,
            "padding": null,
            "right": null,
            "top": null,
            "visibility": null,
            "width": null
          }
        },
        "d66f8501071f4011a88728b340e5f268": {
          "model_module": "@jupyter-widgets/controls",
          "model_name": "DescriptionStyleModel",
          "model_module_version": "1.5.0",
          "state": {
            "_model_module": "@jupyter-widgets/controls",
            "_model_module_version": "1.5.0",
            "_model_name": "DescriptionStyleModel",
            "_view_count": null,
            "_view_module": "@jupyter-widgets/base",
            "_view_module_version": "1.2.0",
            "_view_name": "StyleView",
            "description_width": ""
          }
        }
      }
    }
  },
  "cells": [
    {
      "cell_type": "markdown",
      "source": [
        "Note: As of May 2023, there have been some issues with TensorFlow versions 2.9-2.12\n",
        "with the following code.\n",
        "However, these seemed to have been fixed in version 2.13+.\n",
        "TensorFlow version 2.13 is available in tf-nightly as of May 2023 (will be default in Google Colab soon).\n",
        "Therefore, to prevent errors we'll install tf-nightly first.\n",
        "Install tf-nightly (required until 2.13.0+ is the default in Google Colab)"
      ],
      "metadata": {
        "id": "IsDJ2PJ7Cf3Y"
      }
    },
    {
      "cell_type": "code",
      "source": [
        "# !pip install tensorflow==2.9.2\n",
        "!pip install -U -q tf-nightly\n",
        "\n",
        "# Check TensorFlow version (should be minimum 2.4.0+ but 2.13.0+ is better)\n",
        "import tensorflow as tf\n",
        "print(f\"TensorFlow version: {tf.__version__}\")\n",
        "\n",
        "# Add timestamp\n",
        "import datetime\n",
        "print(f\"Notebook last run (end-to-end): {datetime.datetime.now()}\")\n"
      ],
      "metadata": {
        "id": "2r8KD_mwZo_K",
        "colab": {
          "base_uri": "https://localhost:8080/"
        },
        "outputId": "690d264d-e523-4c6a-9995-134b04d1c487"
      },
      "execution_count": 1,
      "outputs": [
        {
          "output_type": "stream",
          "name": "stdout",
          "text": [
            "\u001b[2K     \u001b[90m━━━━━━━━━━━━━━━━━━━━━━━━━━━━━━━━━━━━━━━\u001b[0m \u001b[32m491.0/491.0 MB\u001b[0m \u001b[31m3.2 MB/s\u001b[0m eta \u001b[36m0:00:00\u001b[0m\n",
            "\u001b[2K     \u001b[90m━━━━━━━━━━━━━━━━━━━━━━━━━━━━━━━━━━━━━━━━\u001b[0m \u001b[32m1.7/1.7 MB\u001b[0m \u001b[31m88.7 MB/s\u001b[0m eta \u001b[36m0:00:00\u001b[0m\n",
            "\u001b[2K     \u001b[90m━━━━━━━━━━━━━━━━━━━━━━━━━━━━━━━━━━━━━━━━\u001b[0m \u001b[32m5.6/5.6 MB\u001b[0m \u001b[31m98.2 MB/s\u001b[0m eta \u001b[36m0:00:00\u001b[0m\n",
            "\u001b[2K     \u001b[90m━━━━━━━━━━━━━━━━━━━━━━━━━━━━━━━━━━━━━━\u001b[0m \u001b[32m441.0/441.0 kB\u001b[0m \u001b[31m48.5 MB/s\u001b[0m eta \u001b[36m0:00:00\u001b[0m\n",
            "\u001b[?25h"
          ]
        },
        {
          "output_type": "stream",
          "name": "stderr",
          "text": [
            "WARNING:tensorflow:From /usr/local/lib/python3.10/dist-packages/tensorflow/python/ops/distributions/distribution.py:259: ReparameterizationType.__init__ (from tensorflow.python.ops.distributions.distribution) is deprecated and will be removed after 2019-01-01.\n",
            "Instructions for updating:\n",
            "The TensorFlow Distributions library has moved to TensorFlow Probability (https://github.com/tensorflow/probability). You should update all references to use `tfp.distributions` instead of `tf.distributions`.\n",
            "WARNING:tensorflow:From /usr/local/lib/python3.10/dist-packages/tensorflow/python/ops/distributions/bernoulli.py:165: RegisterKL.__init__ (from tensorflow.python.ops.distributions.kullback_leibler) is deprecated and will be removed after 2019-01-01.\n",
            "Instructions for updating:\n",
            "The TensorFlow Distributions library has moved to TensorFlow Probability (https://github.com/tensorflow/probability). You should update all references to use `tfp.distributions` instead of `tf.distributions`.\n"
          ]
        },
        {
          "output_type": "stream",
          "name": "stdout",
          "text": [
            "TensorFlow version: 2.14.0-dev20230701\n",
            "Notebook last run (end-to-end): 2023-07-02 05:24:18.515126\n"
          ]
        }
      ]
    },
    {
      "cell_type": "code",
      "source": [
        "tf.__version__"
      ],
      "metadata": {
        "id": "TIJPNASeZlt8",
        "colab": {
          "base_uri": "https://localhost:8080/",
          "height": 35
        },
        "outputId": "3e039d6e-ad58-449d-d9d0-11d7cb18c76c"
      },
      "execution_count": null,
      "outputs": [
        {
          "output_type": "execute_result",
          "data": {
            "text/plain": [
              "'2.14.0-dev20230701'"
            ],
            "application/vnd.google.colaboratory.intrinsic+json": {
              "type": "string"
            }
          },
          "metadata": {},
          "execution_count": 2
        }
      ]
    },
    {
      "cell_type": "markdown",
      "source": [
        "# Milestone project 1: Food vision Big"
      ],
      "metadata": {
        "id": "lxtyyZD2yOFz"
      }
    },
    {
      "cell_type": "markdown",
      "source": [
        "## check GPU\n",
        "\n",
        "Google colab offers free GPU not all of them are compatible with the mixed precision training\n",
        "\n",
        "Google Colab offers:\n",
        "* k80 (not compatible)\n",
        "*p100(not compatible)\n",
        "* Tesla T4 (compatible)\n",
        "\n",
        "so mixed precision training need the GPU compatibility of above `7.0`\n",
        "older gpu can not perform well on the math problems and precision training\n",
        "\n",
        "\n",
        "**[Mixed precision training](www.tensorflow.org/guide/mixed_precision):** Mixed precision is the use of both 16-bit and 32-bit floating-point types in a model during training to make it run faster and use less memory.so it uses small floating numbers to save the memory and to run the task faster this improves the GPU speed by 3x.\n"
      ],
      "metadata": {
        "id": "vwl8BNtftqKG"
      }
    },
    {
      "cell_type": "code",
      "source": [
        "!nvidia-smi"
      ],
      "metadata": {
        "colab": {
          "base_uri": "https://localhost:8080/"
        },
        "id": "DKd__NqpzNQ_",
        "outputId": "6085eef6-c02d-40b6-89eb-2053f47066dd"
      },
      "execution_count": null,
      "outputs": [
        {
          "output_type": "stream",
          "name": "stdout",
          "text": [
            "Sat Jul  1 15:41:31 2023       \n",
            "+-----------------------------------------------------------------------------+\n",
            "| NVIDIA-SMI 525.85.12    Driver Version: 525.85.12    CUDA Version: 12.0     |\n",
            "|-------------------------------+----------------------+----------------------+\n",
            "| GPU  Name        Persistence-M| Bus-Id        Disp.A | Volatile Uncorr. ECC |\n",
            "| Fan  Temp  Perf  Pwr:Usage/Cap|         Memory-Usage | GPU-Util  Compute M. |\n",
            "|                               |                      |               MIG M. |\n",
            "|===============================+======================+======================|\n",
            "|   0  Tesla T4            Off  | 00000000:00:04.0 Off |                    0 |\n",
            "| N/A   38C    P8     9W /  70W |      0MiB / 15360MiB |      0%      Default |\n",
            "|                               |                      |                  N/A |\n",
            "+-------------------------------+----------------------+----------------------+\n",
            "                                                                               \n",
            "+-----------------------------------------------------------------------------+\n",
            "| Processes:                                                                  |\n",
            "|  GPU   GI   CI        PID   Type   Process name                  GPU Memory |\n",
            "|        ID   ID                                                   Usage      |\n",
            "|=============================================================================|\n",
            "|  No running processes found                                                 |\n",
            "+-----------------------------------------------------------------------------+\n"
          ]
        }
      ]
    },
    {
      "cell_type": "markdown",
      "source": [
        "## Get helper Functions\n",
        "\n",
        "In past sessions we've created a bunch of helper functions we will import them through github"
      ],
      "metadata": {
        "id": "MF6EDNz_23P9"
      }
    },
    {
      "cell_type": "code",
      "source": [
        "#download the helper_functions.py\n",
        "!wget https://raw.githubusercontent.com/rajtiwariee/helper_functions/master/helper_functions.py?token=GHSAT0AAAAAACDB4BKHY6HSVNJLUP45CEZCZFBDINA\n",
        "!mv helper_functions.py?token=GHSAT0AAAAAACDB4BKHY6HSVNJLUP45CEZCZFBDINA helper_functions.py"
      ],
      "metadata": {
        "id": "BfKkJJIs3TUe",
        "colab": {
          "base_uri": "https://localhost:8080/"
        },
        "outputId": "cdb922da-d949-4877-c4e9-17d405ff3f75"
      },
      "execution_count": 8,
      "outputs": [
        {
          "output_type": "stream",
          "name": "stdout",
          "text": [
            "--2023-07-02 05:43:53--  https://raw.githubusercontent.com/rajtiwariee/helper_functions/master/helper_functions.py?token=GHSAT0AAAAAACDB4BKHY6HSVNJLUP45CEZCZFBDINA\n",
            "Resolving raw.githubusercontent.com (raw.githubusercontent.com)... 185.199.108.133, 185.199.109.133, 185.199.110.133, ...\n",
            "Connecting to raw.githubusercontent.com (raw.githubusercontent.com)|185.199.108.133|:443... connected.\n",
            "HTTP request sent, awaiting response... 200 OK\n",
            "Length: 10246 (10K) [text/plain]\n",
            "Saving to: ‘helper_functions.py?token=GHSAT0AAAAAACDB4BKHY6HSVNJLUP45CEZCZFBDINA’\n",
            "\n",
            "helper_functions.py 100%[===================>]  10.01K  --.-KB/s    in 0s      \n",
            "\n",
            "2023-07-02 05:43:54 (83.7 MB/s) - ‘helper_functions.py?token=GHSAT0AAAAAACDB4BKHY6HSVNJLUP45CEZCZFBDINA’ saved [10246/10246]\n",
            "\n"
          ]
        }
      ]
    },
    {
      "cell_type": "code",
      "source": [
        "#Import series of helper functions for the notebook\n",
        "from helper_functions import create_tensorboard_callback,unzip_data,plot_loss_curves,compare_historys"
      ],
      "metadata": {
        "id": "JXwb9C5X31dX"
      },
      "execution_count": 9,
      "outputs": []
    },
    {
      "cell_type": "markdown",
      "source": [
        "##Use Tensorflow Datasets to download data\n",
        "\n",
        "if you want to get an anatomy of tensorflow datasets (tfds) visit this guide : https://www.tensorflow.org/datasets/overview\n",
        "\n",
        "Tensorflow datasets allow us to download the data in tensor format which is ready to build for the models"
      ],
      "metadata": {
        "id": "BD5eOU4e4rl5"
      }
    },
    {
      "cell_type": "code",
      "source": [
        "#Get tensorflow datasets\n",
        "import tensorflow_datasets as tfds"
      ],
      "metadata": {
        "id": "Bpb1CruxeQ6W"
      },
      "execution_count": 10,
      "outputs": []
    },
    {
      "cell_type": "code",
      "source": [
        "#List all availabe datasets\n",
        "datasets_list = tfds.list_builders()\n",
        "print('food101' in datasets_list)"
      ],
      "metadata": {
        "id": "xhACmX2recqE",
        "colab": {
          "base_uri": "https://localhost:8080/"
        },
        "outputId": "a1489aec-e125-42c4-c5df-1b4562552596"
      },
      "execution_count": 5,
      "outputs": [
        {
          "output_type": "stream",
          "name": "stdout",
          "text": [
            "True\n"
          ]
        }
      ]
    },
    {
      "cell_type": "code",
      "source": [
        "#load in the data\n",
        "(train_data, test_data) , data_info = tfds.load(name = 'food101',\n",
        "                                                split = ['train','validation'],\n",
        "                                                shuffle_files=True,\n",
        "                                                as_supervised= True, #data gets return in tuple format (data,label))\n",
        "                                                with_info=True)"
      ],
      "metadata": {
        "id": "hRRAknStfZ6T",
        "colab": {
          "base_uri": "https://localhost:8080/",
          "height": 168,
          "referenced_widgets": [
            "6dcfc83b4e23405c81a7098cf60438ff",
            "b1764db883b449f9962973fefc264378",
            "656cc0ad3b6248d3b1760a723b23abf6",
            "43e56499632f4a788ef983522b8767d8",
            "9c2a3e2c60c44a55a0c3a7cfa44b2a05",
            "54b76436c1854f4ca58f8507b685b5f1",
            "61a775eb36024633b9532894aeed865f",
            "a9496d71157d4c7db79337b0e3e4dbba",
            "5c079f33bbb24e9692dd580bea416a7a",
            "634c295756334063b4e7e5b9f3552337",
            "a7c3f6a6b6994515a78881727eea6da4",
            "10333093138b44e9877e19b74381838c",
            "b3f95951b92943b9a8ecd51ab5458ff0",
            "f9105c17d64c4e90b317ef7bdc172bc1",
            "1044de8dfcc94de887fb47d3baad20b6",
            "23a8cc8ad7a849ca9933d8c7fdea06e6",
            "db5118bda60b481ba51ee79a756cde2f",
            "7b3d1ad10641453b8e564babf2f5ee33",
            "0bc5ebb7faa64b959b908fe2157dedd4",
            "6dbcd9503dba4d549f9280e590a4645e",
            "6190312ceb71472a8e8c89b816af55b2",
            "071afee7dc4141b89b7f87e5fc36fb08",
            "5c45615f446e480bae5a1f1649010d77",
            "b2a0407b4d33428a8726d61312288b63",
            "bc7b508a19ae4b78a01e5eaffcb5a78c",
            "bc4443b80080408dbe6d686fde2309cc",
            "808329486f6347edb15bb3c81d72ad1b",
            "96d00d77f5b24e5fa97268ebb641e7a9",
            "af0be5896c2c48b281c8b128842fa698",
            "c70c72adaab94c8f8baf7705c00ce49a",
            "767b364badd64177b30892b112a4e5bc",
            "0447decae1fa45a3a431c88577ca2ad1",
            "fc869ceed0f4459e806094187908163b",
            "c52152a0edcb4bd7a4d9d2022cae63c8",
            "1c5f547b3424413591dcdbdc5c8aac92",
            "732ad521142e46ed9e1c4fc702149cbc",
            "5b618d3fc84f484c9985c47f996168dc",
            "938c504e08164ed7960c1eccce704dc3",
            "0b26dd9dbba04447868d9762d35d9f28",
            "ad46bd8bd49a4d58936d997e7a3a1e49",
            "e9f6dd71a0fc47f58fe39ebacb541e72",
            "49f96973275b4985948a1e4da9841411",
            "b2b102e64c7d41cd875b9e39a7a2bf48",
            "c0abf52fc4e94c3a8f881d05cc5bc267",
            "4bd96258fce64bdfbbbd5b738178f62d",
            "cd221892a28044b2a8e9bc87401d4545",
            "97d60c2573ef499cb9b64ae9d38df224",
            "a478bf12cde74d9bb9b880a84bc52515",
            "9c4359bcb3a04c868e0cdb5b459e335f",
            "6cd71518f4054ae0a3fc39ffceeba0c4",
            "3a3117e518b843fdaeb90966e8751c5a",
            "a70127daf9614b13bfd059e87cebf899",
            "ffccb89562064142a2ce71d5ba086adb",
            "a8e6e7f0eab640a1bf9bf169f3b4ade8",
            "ead6cf454ff64b778b15cb3f5587a663",
            "64f87d02dd1c4a169d0b5aa4cd9a0ef5",
            "ef4f015497a74240b3b55b37a8174ff5",
            "312d8a34d6c449e79694b708de72c637",
            "b12586f093cf41ee805a9967dea709ab",
            "7d2cce273cb44aafac32970f3e849c7f",
            "07f7272e879a4620a0e98b9ab525dcc1",
            "16c5c994386a4938bd72e9d40aaca083",
            "ae287c6d19aa4c5ba2aa8d3c7476f870",
            "574c227dc8564eafbaa1c63070ea9507",
            "24339df71dcf443199e3dfeacb61fa4c",
            "d66f8501071f4011a88728b340e5f268"
          ]
        },
        "outputId": "b20cfd2d-8c14-4d19-ec31-eafe0c32dcd3"
      },
      "execution_count": 6,
      "outputs": [
        {
          "output_type": "stream",
          "name": "stdout",
          "text": [
            "Downloading and preparing dataset 4.65 GiB (download: 4.65 GiB, generated: Unknown size, total: 4.65 GiB) to /root/tensorflow_datasets/food101/2.0.0...\n"
          ]
        },
        {
          "output_type": "display_data",
          "data": {
            "text/plain": [
              "Dl Completed...: 0 url [00:00, ? url/s]"
            ],
            "application/vnd.jupyter.widget-view+json": {
              "version_major": 2,
              "version_minor": 0,
              "model_id": "6dcfc83b4e23405c81a7098cf60438ff"
            }
          },
          "metadata": {}
        },
        {
          "output_type": "display_data",
          "data": {
            "text/plain": [
              "Dl Size...: 0 MiB [00:00, ? MiB/s]"
            ],
            "application/vnd.jupyter.widget-view+json": {
              "version_major": 2,
              "version_minor": 0,
              "model_id": "10333093138b44e9877e19b74381838c"
            }
          },
          "metadata": {}
        },
        {
          "output_type": "display_data",
          "data": {
            "text/plain": [
              "Extraction completed...: 0 file [00:00, ? file/s]"
            ],
            "application/vnd.jupyter.widget-view+json": {
              "version_major": 2,
              "version_minor": 0,
              "model_id": "5c45615f446e480bae5a1f1649010d77"
            }
          },
          "metadata": {}
        },
        {
          "output_type": "display_data",
          "data": {
            "text/plain": [
              "Shuffling /root/tensorflow_datasets/food101/2.0.0.incomplete9JCC25/food101-train.tfrecord*...:   0%|          …"
            ],
            "application/vnd.jupyter.widget-view+json": {
              "version_major": 2,
              "version_minor": 0,
              "model_id": "c52152a0edcb4bd7a4d9d2022cae63c8"
            }
          },
          "metadata": {}
        },
        {
          "output_type": "display_data",
          "data": {
            "text/plain": [
              "Generating validation examples...:   0%|          | 0/25250 [00:00<?, ? examples/s]"
            ],
            "application/vnd.jupyter.widget-view+json": {
              "version_major": 2,
              "version_minor": 0,
              "model_id": "4bd96258fce64bdfbbbd5b738178f62d"
            }
          },
          "metadata": {}
        },
        {
          "output_type": "display_data",
          "data": {
            "text/plain": [
              "Shuffling /root/tensorflow_datasets/food101/2.0.0.incomplete9JCC25/food101-validation.tfrecord*...:   0%|     …"
            ],
            "application/vnd.jupyter.widget-view+json": {
              "version_major": 2,
              "version_minor": 0,
              "model_id": "64f87d02dd1c4a169d0b5aa4cd9a0ef5"
            }
          },
          "metadata": {}
        },
        {
          "output_type": "stream",
          "name": "stdout",
          "text": [
            "Dataset food101 downloaded and prepared to /root/tensorflow_datasets/food101/2.0.0. Subsequent calls will reuse this data.\n"
          ]
        }
      ]
    },
    {
      "cell_type": "markdown",
      "source": [
        "## Exploring the food 101 data from Tensorflow datasets\n",
        "\n",
        "To become one with the data we want to find:\n",
        "\n",
        "* Class names\n",
        "* The shape of our input data(image tensors)\n",
        "* The datatype of our input data\n",
        "* what are our labels look like (are they one hot encoded or are they label encoded)\n",
        "* do the labels match up with the class names"
      ],
      "metadata": {
        "id": "-bDO_NnhhxVC"
      }
    },
    {
      "cell_type": "code",
      "source": [
        "#Features of food101 from datasets\n",
        "data_info.features"
      ],
      "metadata": {
        "id": "mnKI0P5fkoO4",
        "colab": {
          "base_uri": "https://localhost:8080/"
        },
        "outputId": "f902c0d5-a375-4d03-8292-ed901713ec05"
      },
      "execution_count": 11,
      "outputs": [
        {
          "output_type": "execute_result",
          "data": {
            "text/plain": [
              "FeaturesDict({\n",
              "    'image': Image(shape=(None, None, 3), dtype=uint8),\n",
              "    'label': ClassLabel(shape=(), dtype=int64, num_classes=101),\n",
              "})"
            ]
          },
          "metadata": {},
          "execution_count": 11
        }
      ]
    },
    {
      "cell_type": "code",
      "source": [
        "class_names = data_info.features['label'].names\n",
        "class_names[:10]"
      ],
      "metadata": {
        "id": "wz5uKVqdmahd",
        "colab": {
          "base_uri": "https://localhost:8080/"
        },
        "outputId": "66cd7473-685d-4786-d79c-80a07307d893"
      },
      "execution_count": 12,
      "outputs": [
        {
          "output_type": "execute_result",
          "data": {
            "text/plain": [
              "['apple_pie',\n",
              " 'baby_back_ribs',\n",
              " 'baklava',\n",
              " 'beef_carpaccio',\n",
              " 'beef_tartare',\n",
              " 'beet_salad',\n",
              " 'beignets',\n",
              " 'bibimbap',\n",
              " 'bread_pudding',\n",
              " 'breakfast_burrito']"
            ]
          },
          "metadata": {},
          "execution_count": 12
        }
      ]
    },
    {
      "cell_type": "code",
      "source": [
        "train_data"
      ],
      "metadata": {
        "id": "Xxm_bVd5sdaf",
        "colab": {
          "base_uri": "https://localhost:8080/"
        },
        "outputId": "199ae403-71bf-44de-f480-bdfbd23eb644"
      },
      "execution_count": 13,
      "outputs": [
        {
          "output_type": "execute_result",
          "data": {
            "text/plain": [
              "<_PrefetchDataset element_spec=(TensorSpec(shape=(None, None, 3), dtype=tf.uint8, name=None), TensorSpec(shape=(), dtype=tf.int64, name=None))>"
            ]
          },
          "metadata": {},
          "execution_count": 13
        }
      ]
    },
    {
      "cell_type": "code",
      "source": [
        "#Take one sample of the train data\n",
        "train_data_one_sample = train_data.take(1) #samples are in format (images, label)"
      ],
      "metadata": {
        "id": "4mismKzvms1l"
      },
      "execution_count": 14,
      "outputs": []
    },
    {
      "cell_type": "code",
      "source": [
        "#what does our sample data look like\n",
        "train_data_one_sample"
      ],
      "metadata": {
        "id": "ew7By0Hdsf0a",
        "colab": {
          "base_uri": "https://localhost:8080/"
        },
        "outputId": "661106aa-4903-4c22-ed85-9aad133e9360"
      },
      "execution_count": 15,
      "outputs": [
        {
          "output_type": "execute_result",
          "data": {
            "text/plain": [
              "<_TakeDataset element_spec=(TensorSpec(shape=(None, None, 3), dtype=tf.uint8, name=None), TensorSpec(shape=(), dtype=tf.int64, name=None))>"
            ]
          },
          "metadata": {},
          "execution_count": 15
        }
      ]
    },
    {
      "cell_type": "code",
      "source": [
        "#output info of our training sample\n",
        "for image, label in train_data_one_sample:\n",
        "  print(f\"\"\"\n",
        "  Image shape : {image.shape},\n",
        "  The datatype of our image: {image.dtype},\n",
        "  Target class for food101 :{label} #our label is not one hot encoded we need to use categorical cross entropy\n",
        "  class names (str form) :{class_names[label.numpy()]}\n",
        "  \"\"\")"
      ],
      "metadata": {
        "id": "yz0f33Dts2Xc",
        "colab": {
          "base_uri": "https://localhost:8080/"
        },
        "outputId": "9745c8e8-dd53-4e9f-9335-1f2371187c3f"
      },
      "execution_count": 16,
      "outputs": [
        {
          "output_type": "stream",
          "name": "stdout",
          "text": [
            "\n",
            "  Image shape : (512, 512, 3),\n",
            "  The datatype of our image: <dtype: 'uint8'>,\n",
            "  Target class for food101 :8 #our label is not one hot encoded we need to use categorical cross entropy\n",
            "  class names (str form) :bread_pudding\n",
            "  \n"
          ]
        }
      ]
    },
    {
      "cell_type": "code",
      "source": [
        "image"
      ],
      "metadata": {
        "id": "9GO5N2w7uy0A",
        "colab": {
          "base_uri": "https://localhost:8080/"
        },
        "outputId": "0fe6ef70-71a4-4c9b-f2b4-881a39a411d9"
      },
      "execution_count": 17,
      "outputs": [
        {
          "output_type": "execute_result",
          "data": {
            "text/plain": [
              "<tf.Tensor: shape=(512, 512, 3), dtype=uint8, numpy=\n",
              "array([[[18,  6,  8],\n",
              "        [18,  6,  8],\n",
              "        [18,  6,  8],\n",
              "        ...,\n",
              "        [30, 15, 22],\n",
              "        [29, 14, 21],\n",
              "        [26, 11, 18]],\n",
              "\n",
              "       [[22, 10, 12],\n",
              "        [21,  9, 11],\n",
              "        [20,  8, 10],\n",
              "        ...,\n",
              "        [35, 20, 27],\n",
              "        [31, 16, 23],\n",
              "        [26, 11, 18]],\n",
              "\n",
              "       [[23, 13, 14],\n",
              "        [21, 11, 12],\n",
              "        [19,  9, 10],\n",
              "        ...,\n",
              "        [39, 26, 33],\n",
              "        [36, 21, 28],\n",
              "        [30, 15, 22]],\n",
              "\n",
              "       ...,\n",
              "\n",
              "       [[15,  4,  8],\n",
              "        [15,  4,  8],\n",
              "        [14,  5, 10],\n",
              "        ...,\n",
              "        [41,  9, 10],\n",
              "        [39,  7,  8],\n",
              "        [36,  4,  5]],\n",
              "\n",
              "       [[16,  5,  9],\n",
              "        [16,  5,  9],\n",
              "        [16,  5, 11],\n",
              "        ...,\n",
              "        [42, 12, 12],\n",
              "        [39,  9,  9],\n",
              "        [35,  5,  5]],\n",
              "\n",
              "       [[15,  4,  8],\n",
              "        [15,  4,  8],\n",
              "        [16,  5, 11],\n",
              "        ...,\n",
              "        [41, 11, 11],\n",
              "        [39,  9,  9],\n",
              "        [35,  5,  5]]], dtype=uint8)>"
            ]
          },
          "metadata": {},
          "execution_count": 17
        }
      ]
    },
    {
      "cell_type": "code",
      "source": [
        "#What are the min and the max value of it\n",
        "import tensorflow as tf\n",
        "tf.reduce_min(image),tf.reduce_max(image)"
      ],
      "metadata": {
        "id": "_2bC11fzwFJl",
        "colab": {
          "base_uri": "https://localhost:8080/"
        },
        "outputId": "ad579466-0d99-4bd6-a79c-0728e19b3fc7"
      },
      "execution_count": 18,
      "outputs": [
        {
          "output_type": "execute_result",
          "data": {
            "text/plain": [
              "(<tf.Tensor: shape=(), dtype=uint8, numpy=0>,\n",
              " <tf.Tensor: shape=(), dtype=uint8, numpy=255>)"
            ]
          },
          "metadata": {},
          "execution_count": 18
        }
      ]
    },
    {
      "cell_type": "markdown",
      "source": [
        "###Plot an image from our tensorflow datasets"
      ],
      "metadata": {
        "id": "qUE9T8jBw1Iw"
      }
    },
    {
      "cell_type": "code",
      "source": [
        "#we already have the image so let's do it\n",
        "import matplotlib.pyplot as plt\n",
        "\n",
        "image = tf.cast(image, tf.float32)\n",
        "plt.imshow(image/255.)\n",
        "plt.title(class_names[label.numpy()])\n",
        "plt.axis(False)"
      ],
      "metadata": {
        "id": "928o50VQw6dG",
        "colab": {
          "base_uri": "https://localhost:8080/",
          "height": 445
        },
        "outputId": "d39e4062-a7c4-4172-cd48-f3ed5d8bd4b8"
      },
      "execution_count": 19,
      "outputs": [
        {
          "output_type": "execute_result",
          "data": {
            "text/plain": [
              "(-0.5, 511.5, 511.5, -0.5)"
            ]
          },
          "metadata": {},
          "execution_count": 19
        },
        {
          "output_type": "display_data",
          "data": {
            "text/plain": [
              "<Figure size 640x480 with 1 Axes>"
            ],
            "image/png": "[encoded data removed]"
          },
          "metadata": {}
        }
      ]
    },
    {
      "cell_type": "markdown",
      "source": [
        "## Create preprocessing functions for our data\n",
        "\n",
        "Neural networks best perform when they are in a certain way (e.g batch, normalized etc)\n",
        "\n",
        "However not all data (including data from tensorflow datasets come like this)\n",
        "\n",
        "So in order to get ready for the neural network we need to write some preprocessing functions and map it to our data\n",
        "\n",
        "What we know about our data:\n",
        "* In `uin8` data type\n",
        "* comprised of all different types of tensor(different types of images)\n",
        "* Images are not normalized( they're between 0 and 255)\n",
        "\n",
        "What we know model like:\n",
        "* Data in `float32` dtype(or for mixed precision `float16`  & `float32`)\n",
        "* For batches tensorflow likes all of them in batches and of the same size\n",
        "* scaled (values between 0 and 1) also called normalized tensors generally perform better\n",
        "\n",
        "since we're going to use EfficientnetBx pretrained model from tensorflow.keras.applications we dont need to rescale our data(these architectures have already builtin layers for rescaling other models would need a rescaling preprocessing layer)\n",
        "\n",
        "This means our function needs to:\n",
        "* Resize the images to be of same size\n",
        "* Convert the dtype of our image from `uin8` to `float32`\n",
        "\n"
      ],
      "metadata": {
        "id": "Fk34nd1mFUMz"
      }
    },
    {
      "cell_type": "code",
      "source": [
        "#make a fucntion for our preprocessing images\n",
        "def preprocess_img(image , label, img_shape = 224):\n",
        "  \"\"\"\n",
        "  Converts image datatype from 'uint8' -> 'float32'\n",
        "  and resize the image into [img_shape,img_shape,color_channel = 3]\n",
        "  \"\"\"\n",
        "  image = tf.image.resize(image, [img_shape,img_shape])\n",
        "  # image = image/255. #scale image values (not required for EfficientnetBx models)\n",
        "  return tf.cast(image, tf.float32) , label #return a tuple of [float32_image, label]"
      ],
      "metadata": {
        "id": "hujW-9kfOrjP"
      },
      "execution_count": 20,
      "outputs": []
    },
    {
      "cell_type": "code",
      "source": [
        "#preprocess a single sample and check the outputs\n",
        "preprocessed_img = preprocess_img(image,label)[0]\n",
        "print(f'Image before preprocessing:\\n {image[:2]}\\n Image shape :{image.shape}\\n Image datatype :{image.dtype}\\n')\n",
        "print(f'Image after preprocessing :\\n {preprocessed_img[:2]} \\n Preprocessed image shape:{preprocessed_img.shape}\\n Image Datatype: {preprocessed_img.dtype}')"
      ],
      "metadata": {
        "id": "UTOK14DYPzFj",
        "colab": {
          "base_uri": "https://localhost:8080/"
        },
        "outputId": "d5c1f53c-2e9a-4ff1-d0f4-83510e081ecd"
      },
      "execution_count": 21,
      "outputs": [
        {
          "output_type": "stream",
          "name": "stdout",
          "text": [
            "Image before preprocessing:\n",
            " [[[18.  6.  8.]\n",
            "  [18.  6.  8.]\n",
            "  [18.  6.  8.]\n",
            "  ...\n",
            "  [30. 15. 22.]\n",
            "  [29. 14. 21.]\n",
            "  [26. 11. 18.]]\n",
            "\n",
            " [[22. 10. 12.]\n",
            "  [21.  9. 11.]\n",
            "  [20.  8. 10.]\n",
            "  ...\n",
            "  [35. 20. 27.]\n",
            "  [31. 16. 23.]\n",
            "  [26. 11. 18.]]]\n",
            " Image shape :(512, 512, 3)\n",
            " Image datatype :<dtype: 'float32'>\n",
            "\n",
            "Image after preprocessing :\n",
            " [[[20.158163   8.158163  10.158163 ]\n",
            "  [18.42347    7.6173472  9.020408 ]\n",
            "  [15.010203   6.423469   9.285714 ]\n",
            "  ...\n",
            "  [26.285824  15.714351  23.07156  ]\n",
            "  [31.091867  17.285728  24.285728 ]\n",
            "  [28.754953  13.754952  20.754953 ]]\n",
            "\n",
            " [[18.92857    8.928571   9.928571 ]\n",
            "  [16.214285   7.0765305  8.07653  ]\n",
            "  [14.739796   8.571429  10.627551 ]\n",
            "  ...\n",
            "  [26.444029  15.872557  21.658293 ]\n",
            "  [39.86226   26.862259  33.86226  ]\n",
            "  [39.49479   24.494787  31.494787 ]]] \n",
            " Preprocessed image shape:(224, 224, 3)\n",
            " Image Datatype: <dtype: 'float32'>\n"
          ]
        }
      ]
    },
    {
      "cell_type": "markdown",
      "source": [
        "## Batch and prepare datasets\n",
        "\n",
        "we're going to make our datainput line very fast\n",
        "\n",
        "for more resources check out the link : https://www.tensorflow.org/guide/data_performance"
      ],
      "metadata": {
        "id": "Xne5pcJrfXgA"
      }
    },
    {
      "cell_type": "code",
      "source": [
        "#Map preprocessing function to training (and parallelize)\n",
        "train_data = train_data.map(map_func = preprocess_img, num_parallel_calls = tf.data.AUTOTUNE)\n",
        "#shuffle train_data and turn it into batches\n",
        "train_data = train_data.shuffle(buffer_size = 1000).batch(batch_size =32).prefetch(buffer_size = tf.data.AUTOTUNE)#it will going to shuffle 1000 samples at a time you can increase the size depending on the memory you have\n",
        "\n",
        "\n",
        "#Map preprocessing function to test data\n",
        "test_data = test_data.map(map_func = preprocess_img,num_parallel_calls = tf.data.AUTOTUNE)\n",
        "test_data = test_data.shuffle(buffer_size = 1000).batch(batch_size = 32).prefetch(tf.data.AUTOTUNE)"
      ],
      "metadata": {
        "id": "RPT3ErNElm9J"
      },
      "execution_count": 22,
      "outputs": []
    },
    {
      "cell_type": "markdown",
      "source": [
        ">**Note:** tf.data.AUTOTUNE will tune values automatically during runtime . Tuning means it will select random values during the runing time\n",
        "\n",
        "num parallel_call will parallize and use as many processors in parallel\n",
        "\n",
        "we can store the preprocessed images in `.cache()` to load them faster"
      ],
      "metadata": {
        "id": "xtl7YPJIId9K"
      }
    },
    {
      "cell_type": "code",
      "source": [
        "train_data, test_data"
      ],
      "metadata": {
        "id": "8VkaSY1f0Hw6",
        "colab": {
          "base_uri": "https://localhost:8080/"
        },
        "outputId": "59c31c9e-6f99-4a99-c0d5-1005171bd4b7"
      },
      "execution_count": 23,
      "outputs": [
        {
          "output_type": "execute_result",
          "data": {
            "text/plain": [
              "(<_PrefetchDataset element_spec=(TensorSpec(shape=(None, 224, 224, 3), dtype=tf.float32, name=None), TensorSpec(shape=(None,), dtype=tf.int64, name=None))>,\n",
              " <_PrefetchDataset element_spec=(TensorSpec(shape=(None, 224, 224, 3), dtype=tf.float32, name=None), TensorSpec(shape=(None,), dtype=tf.int64, name=None))>)"
            ]
          },
          "metadata": {},
          "execution_count": 23
        }
      ]
    },
    {
      "cell_type": "markdown",
      "source": [
        "'Hey ,tensorflow map this preprocessing function(preprocess_img) across our training set and shuffle the number of elements and batch them together and finally make sure you prepare the batches (prefetch) while the model is looking through finding the patterns into the current batch'\n",
        "\n",
        "prefetch saves the time and this gives us the best performant pipeline"
      ],
      "metadata": {
        "id": "UqglzZ92inD5"
      }
    },
    {
      "cell_type": "markdown",
      "source": [
        "## Create modelling Callbacks\n",
        "\n",
        "Callbacks are necessary to run these useful functions while the model is running. so we will be preparing a feature extraction model\n",
        "\n",
        "* Tensorboard callback to log training results( so we can visualize them later when need to be)\n",
        "* Model checkpoint to save our model progress after the Feature extraction model"
      ],
      "metadata": {
        "id": "mRlcbB5skpMM"
      }
    },
    {
      "cell_type": "code",
      "source": [
        "#create tensorboard callback (from helper_functions.py)\n",
        "from helper_functions import create_tensorboard_callback\n",
        "\n",
        "#create a model checkpoint callback to save model progress during training\n",
        "checkpoint_path = 'model_checkpoint.h5/ck.ckpt'\n",
        "\n",
        "model_checkpoint = tf.keras.callbacks.ModelCheckpoint(filepath = checkpoint_path,\n",
        "                                                      monitor = 'val_accuracy',\n",
        "                                                      save_best_only = True,\n",
        "                                                      save_weights_only = True,\n",
        "                                                      verbose = 0)#dont print whether or not model is being saved\n"
      ],
      "metadata": {
        "id": "tYbVKjx6lf0z"
      },
      "execution_count": 24,
      "outputs": []
    },
    {
      "cell_type": "markdown",
      "source": [
        "## Setup [Mixed precision](https://www.tensorflow.org/guide/mixed_precision) Training\n",
        "\n",
        "`Mixed precision is the use of both 16-bit and 32-bit floating-point types in a model during training` to make it run faster and use less memory. By keeping certain parts of the model in the 32-bit types for numeric stability, the model will have a lower step time and train equally as well in terms of the evaluation metrics such as accuracy.\n",
        "\n",
        "The Keras mixed precision API allows you to use a mix of either float16 or bfloat16 with float32, to get the performance benefits from float16/bfloat16 and the numeric stability benefits from float32."
      ],
      "metadata": {
        "id": "joey9Od_lurZ"
      }
    },
    {
      "cell_type": "code",
      "source": [
        "#Turn on mixed precision training\n",
        "from tensorflow.keras import mixed_precision\n",
        "mixed_precision.set_global_policy('mixed_float16')\n",
        "#set global data policy to mixed precision -it will be mixed with float32 to increase the performance and float32 will be there for the stability"
      ],
      "metadata": {
        "id": "9eYd4QPQo5bc"
      },
      "execution_count": 25,
      "outputs": []
    },
    {
      "cell_type": "code",
      "source": [
        "mixed_precision.global_policy()"
      ],
      "metadata": {
        "colab": {
          "base_uri": "https://localhost:8080/"
        },
        "id": "VEyWvuXSqWaa",
        "outputId": "6f2f4647-2b33-443c-da94-d35d72ee2bab"
      },
      "execution_count": null,
      "outputs": [
        {
          "output_type": "execute_result",
          "data": {
            "text/plain": [
              "<Policy \"mixed_float16\">"
            ]
          },
          "metadata": {},
          "execution_count": 23
        }
      ]
    },
    {
      "cell_type": "markdown",
      "source": [
        ">**Note:** our model will run the tasks in float16 and it will store the numbers in float32 for the numeric stability. so you need to keep the output layer dtype = float32"
      ],
      "metadata": {
        "id": "AQI-ey9os31O"
      }
    },
    {
      "cell_type": "markdown",
      "source": [
        "##Build Feature Extraction model"
      ],
      "metadata": {
        "id": "ssy2RXg80BEQ"
      }
    },
    {
      "cell_type": "code",
      "source": [
        "from tensorflow.keras import layers\n",
        "from tensorflow.keras.layers.experimental import preprocessing\n",
        "\n",
        "#create base model\n",
        "input_shape = (224,224,3)\n",
        "base_model = tf.keras.applications.EfficientNetB0(include_top = False)#we will create our own output layers\n",
        "base_model.trainable = False\n",
        "\n",
        "#create Functional model\n",
        "inputs = layers.Input(shape = input_shape, name = 'input_layer')\n",
        "#Note: Efficientnet models have builtin rescaling layers if your model dont you can add\n",
        "# x = preprocessing.Rescaling(1/255.)\n",
        "x = base_model(inputs, training = False) #you need to pass the layers inside the model and other than that you need to keep at right of it\n",
        "x = layers.GlobalAveragePooling2D()(x)#it will average all the features\n",
        "x = layers.Dense(101)(x)\n",
        "#create the output layer\n",
        "outputs = layers.Activation('softmax',dtype = tf.float32,name = 'softmax_float32')(x)\n",
        "\n",
        "model = tf.keras.Model(inputs,outputs)\n",
        "\n",
        "#compile the model\n",
        "model.compile(loss = 'sparse_categorical_crossentropy',#if our labels are onehot encoded then we can use categorical_cross if they are in\n",
        "              optimizer = tf.keras.optimizers.Adam(), #integers then use sparse_categorical_cross_entropy\n",
        "              metrics = 'accuracy')"
      ],
      "metadata": {
        "id": "4MZ6llMh0GOU",
        "colab": {
          "base_uri": "https://localhost:8080/"
        },
        "outputId": "3f78a403-c983-4b96-ca29-ed72b7e817a4"
      },
      "execution_count": 26,
      "outputs": [
        {
          "output_type": "stream",
          "name": "stdout",
          "text": [
            "Downloading data from https://storage.googleapis.com/keras-applications/efficientnetb0_notop.h5\n",
            "16705208/16705208 [==============================] - 2s 0us/step\n"
          ]
        }
      ]
    },
    {
      "cell_type": "code",
      "source": [
        "model.summary()"
      ],
      "metadata": {
        "id": "uTpYTbOp5dXB",
        "colab": {
          "base_uri": "https://localhost:8080/"
        },
        "outputId": "49631f3d-ec9d-4de6-b96a-996bd079c46a"
      },
      "execution_count": null,
      "outputs": [
        {
          "output_type": "stream",
          "name": "stdout",
          "text": [
            "Model: \"model\"\n",
            "_________________________________________________________________\n",
            " Layer (type)                Output Shape              Param #   \n",
            "=================================================================\n",
            " input_layer (InputLayer)    [(None, 224, 224, 3)]     0         \n",
            "                                                                 \n",
            " efficientnetb0 (Functional  (None, None, None, 1280   4049571   \n",
            " )                           )                                   \n",
            "                                                                 \n",
            " global_average_pooling2d (  (None, 1280)              0         \n",
            " GlobalAveragePooling2D)                                         \n",
            "                                                                 \n",
            " dense (Dense)               (None, 101)               129381    \n",
            "                                                                 \n",
            " softmax_float32 (Activatio  (None, 101)               0         \n",
            " n)                                                              \n",
            "                                                                 \n",
            "=================================================================\n",
            "Total params: 4178952 (15.94 MB)\n",
            "Trainable params: 129381 (505.39 KB)\n",
            "Non-trainable params: 4049571 (15.45 MB)\n",
            "_________________________________________________________________\n"
          ]
        }
      ]
    },
    {
      "cell_type": "markdown",
      "source": [
        "##checking layer dtype policies"
      ],
      "metadata": {
        "id": "iQAV7tWDLoJl"
      }
    },
    {
      "cell_type": "code",
      "source": [
        "for layers in model.layers:\n",
        "  print(layers.name, layers.trainable, layers.dtype, layers.dtype_policy)"
      ],
      "metadata": {
        "id": "vZ38gE_e5gFn",
        "colab": {
          "base_uri": "https://localhost:8080/"
        },
        "outputId": "7f631c7d-839e-4a6c-8bec-23922c1e587f"
      },
      "execution_count": null,
      "outputs": [
        {
          "output_type": "stream",
          "name": "stdout",
          "text": [
            "input_layer True float32 <Policy \"float32\">\n",
            "efficientnetb0 False float32 <Policy \"mixed_float16\">\n",
            "global_average_pooling2d True float32 <Policy \"mixed_float16\">\n",
            "dense True float32 <Policy \"mixed_float16\">\n",
            "softmax_float32 True float32 <Policy \"float32\">\n"
          ]
        }
      ]
    },
    {
      "cell_type": "markdown",
      "source": [
        "Going through the above we see:\n",
        "* `layer.name`- The human readable name\n",
        "* `layer.trainable` - is the layers trainable or not (if false then weights are frozen)\n",
        "* `layers.dtype` - The datatype the layer stores variables in\n",
        "* `layers.dtype_policy` - The datatype policy of a layer computes on it variables with"
      ],
      "metadata": {
        "id": "UxDlN_rAMe22"
      }
    },
    {
      "cell_type": "code",
      "source": [
        "#check the dtype policy for efficientnet\n",
        "for layers in model.layers[1].layers:\n",
        "  print(layers.name, layers.trainable, layers.dtype, layers.dtype_policy)\n"
      ],
      "metadata": {
        "id": "Ienyn5MLMdMO",
        "colab": {
          "base_uri": "https://localhost:8080/"
        },
        "outputId": "52c9b501-ce1a-4643-afac-8dddc79b90db"
      },
      "execution_count": null,
      "outputs": [
        {
          "output_type": "stream",
          "name": "stdout",
          "text": [
            "input_24 False float32 <Policy \"float32\">\n",
            "rescaling_46 False float32 <Policy \"mixed_float16\">\n",
            "normalization_23 False float32 <Policy \"mixed_float16\">\n",
            "rescaling_47 False float32 <Policy \"mixed_float16\">\n",
            "stem_conv_pad False float32 <Policy \"mixed_float16\">\n",
            "stem_conv False float32 <Policy \"mixed_float16\">\n",
            "stem_bn False float32 <Policy \"mixed_float16\">\n",
            "stem_activation False float32 <Policy \"mixed_float16\">\n",
            "block1a_dwconv False float32 <Policy \"mixed_float16\">\n",
            "block1a_bn False float32 <Policy \"mixed_float16\">\n",
            "block1a_activation False float32 <Policy \"mixed_float16\">\n",
            "block1a_se_squeeze False float32 <Policy \"mixed_float16\">\n",
            "block1a_se_reshape False float32 <Policy \"mixed_float16\">\n",
            "block1a_se_reduce False float32 <Policy \"mixed_float16\">\n",
            "block1a_se_expand False float32 <Policy \"mixed_float16\">\n",
            "block1a_se_excite False float32 <Policy \"mixed_float16\">\n",
            "block1a_project_conv False float32 <Policy \"mixed_float16\">\n",
            "block1a_project_bn False float32 <Policy \"mixed_float16\">\n",
            "block2a_expand_conv False float32 <Policy \"mixed_float16\">\n",
            "block2a_expand_bn False float32 <Policy \"mixed_float16\">\n",
            "block2a_expand_activation False float32 <Policy \"mixed_float16\">\n",
            "block2a_dwconv_pad False float32 <Policy \"mixed_float16\">\n",
            "block2a_dwconv False float32 <Policy \"mixed_float16\">\n",
            "block2a_bn False float32 <Policy \"mixed_float16\">\n",
            "block2a_activation False float32 <Policy \"mixed_float16\">\n",
            "block2a_se_squeeze False float32 <Policy \"mixed_float16\">\n",
            "block2a_se_reshape False float32 <Policy \"mixed_float16\">\n",
            "block2a_se_reduce False float32 <Policy \"mixed_float16\">\n",
            "block2a_se_expand False float32 <Policy \"mixed_float16\">\n",
            "block2a_se_excite False float32 <Policy \"mixed_float16\">\n",
            "block2a_project_conv False float32 <Policy \"mixed_float16\">\n",
            "block2a_project_bn False float32 <Policy \"mixed_float16\">\n",
            "block2b_expand_conv False float32 <Policy \"mixed_float16\">\n",
            "block2b_expand_bn False float32 <Policy \"mixed_float16\">\n",
            "block2b_expand_activation False float32 <Policy \"mixed_float16\">\n",
            "block2b_dwconv False float32 <Policy \"mixed_float16\">\n",
            "block2b_bn False float32 <Policy \"mixed_float16\">\n",
            "block2b_activation False float32 <Policy \"mixed_float16\">\n",
            "block2b_se_squeeze False float32 <Policy \"mixed_float16\">\n",
            "block2b_se_reshape False float32 <Policy \"mixed_float16\">\n",
            "block2b_se_reduce False float32 <Policy \"mixed_float16\">\n",
            "block2b_se_expand False float32 <Policy \"mixed_float16\">\n",
            "block2b_se_excite False float32 <Policy \"mixed_float16\">\n",
            "block2b_project_conv False float32 <Policy \"mixed_float16\">\n",
            "block2b_project_bn False float32 <Policy \"mixed_float16\">\n",
            "block2b_drop False float32 <Policy \"mixed_float16\">\n",
            "block2b_add False float32 <Policy \"mixed_float16\">\n",
            "block3a_expand_conv False float32 <Policy \"mixed_float16\">\n",
            "block3a_expand_bn False float32 <Policy \"mixed_float16\">\n",
            "block3a_expand_activation False float32 <Policy \"mixed_float16\">\n",
            "block3a_dwconv_pad False float32 <Policy \"mixed_float16\">\n",
            "block3a_dwconv False float32 <Policy \"mixed_float16\">\n",
            "block3a_bn False float32 <Policy \"mixed_float16\">\n",
            "block3a_activation False float32 <Policy \"mixed_float16\">\n",
            "block3a_se_squeeze False float32 <Policy \"mixed_float16\">\n",
            "block3a_se_reshape False float32 <Policy \"mixed_float16\">\n",
            "block3a_se_reduce False float32 <Policy \"mixed_float16\">\n",
            "block3a_se_expand False float32 <Policy \"mixed_float16\">\n",
            "block3a_se_excite False float32 <Policy \"mixed_float16\">\n",
            "block3a_project_conv False float32 <Policy \"mixed_float16\">\n",
            "block3a_project_bn False float32 <Policy \"mixed_float16\">\n",
            "block3b_expand_conv False float32 <Policy \"mixed_float16\">\n",
            "block3b_expand_bn False float32 <Policy \"mixed_float16\">\n",
            "block3b_expand_activation False float32 <Policy \"mixed_float16\">\n",
            "block3b_dwconv False float32 <Policy \"mixed_float16\">\n",
            "block3b_bn False float32 <Policy \"mixed_float16\">\n",
            "block3b_activation False float32 <Policy \"mixed_float16\">\n",
            "block3b_se_squeeze False float32 <Policy \"mixed_float16\">\n",
            "block3b_se_reshape False float32 <Policy \"mixed_float16\">\n",
            "block3b_se_reduce False float32 <Policy \"mixed_float16\">\n",
            "block3b_se_expand False float32 <Policy \"mixed_float16\">\n",
            "block3b_se_excite False float32 <Policy \"mixed_float16\">\n",
            "block3b_project_conv False float32 <Policy \"mixed_float16\">\n",
            "block3b_project_bn False float32 <Policy \"mixed_float16\">\n",
            "block3b_drop False float32 <Policy \"mixed_float16\">\n",
            "block3b_add False float32 <Policy \"mixed_float16\">\n",
            "block4a_expand_conv False float32 <Policy \"mixed_float16\">\n",
            "block4a_expand_bn False float32 <Policy \"mixed_float16\">\n",
            "block4a_expand_activation False float32 <Policy \"mixed_float16\">\n",
            "block4a_dwconv_pad False float32 <Policy \"mixed_float16\">\n",
            "block4a_dwconv False float32 <Policy \"mixed_float16\">\n",
            "block4a_bn False float32 <Policy \"mixed_float16\">\n",
            "block4a_activation False float32 <Policy \"mixed_float16\">\n",
            "block4a_se_squeeze False float32 <Policy \"mixed_float16\">\n",
            "block4a_se_reshape False float32 <Policy \"mixed_float16\">\n",
            "block4a_se_reduce False float32 <Policy \"mixed_float16\">\n",
            "block4a_se_expand False float32 <Policy \"mixed_float16\">\n",
            "block4a_se_excite False float32 <Policy \"mixed_float16\">\n",
            "block4a_project_conv False float32 <Policy \"mixed_float16\">\n",
            "block4a_project_bn False float32 <Policy \"mixed_float16\">\n",
            "block4b_expand_conv False float32 <Policy \"mixed_float16\">\n",
            "block4b_expand_bn False float32 <Policy \"mixed_float16\">\n",
            "block4b_expand_activation False float32 <Policy \"mixed_float16\">\n",
            "block4b_dwconv False float32 <Policy \"mixed_float16\">\n",
            "block4b_bn False float32 <Policy \"mixed_float16\">\n",
            "block4b_activation False float32 <Policy \"mixed_float16\">\n",
            "block4b_se_squeeze False float32 <Policy \"mixed_float16\">\n",
            "block4b_se_reshape False float32 <Policy \"mixed_float16\">\n",
            "block4b_se_reduce False float32 <Policy \"mixed_float16\">\n",
            "block4b_se_expand False float32 <Policy \"mixed_float16\">\n",
            "block4b_se_excite False float32 <Policy \"mixed_float16\">\n",
            "block4b_project_conv False float32 <Policy \"mixed_float16\">\n",
            "block4b_project_bn False float32 <Policy \"mixed_float16\">\n",
            "block4b_drop False float32 <Policy \"mixed_float16\">\n",
            "block4b_add False float32 <Policy \"mixed_float16\">\n",
            "block4c_expand_conv False float32 <Policy \"mixed_float16\">\n",
            "block4c_expand_bn False float32 <Policy \"mixed_float16\">\n",
            "block4c_expand_activation False float32 <Policy \"mixed_float16\">\n",
            "block4c_dwconv False float32 <Policy \"mixed_float16\">\n",
            "block4c_bn False float32 <Policy \"mixed_float16\">\n",
            "block4c_activation False float32 <Policy \"mixed_float16\">\n",
            "block4c_se_squeeze False float32 <Policy \"mixed_float16\">\n",
            "block4c_se_reshape False float32 <Policy \"mixed_float16\">\n",
            "block4c_se_reduce False float32 <Policy \"mixed_float16\">\n",
            "block4c_se_expand False float32 <Policy \"mixed_float16\">\n",
            "block4c_se_excite False float32 <Policy \"mixed_float16\">\n",
            "block4c_project_conv False float32 <Policy \"mixed_float16\">\n",
            "block4c_project_bn False float32 <Policy \"mixed_float16\">\n",
            "block4c_drop False float32 <Policy \"mixed_float16\">\n",
            "block4c_add False float32 <Policy \"mixed_float16\">\n",
            "block5a_expand_conv False float32 <Policy \"mixed_float16\">\n",
            "block5a_expand_bn False float32 <Policy \"mixed_float16\">\n",
            "block5a_expand_activation False float32 <Policy \"mixed_float16\">\n",
            "block5a_dwconv False float32 <Policy \"mixed_float16\">\n",
            "block5a_bn False float32 <Policy \"mixed_float16\">\n",
            "block5a_activation False float32 <Policy \"mixed_float16\">\n",
            "block5a_se_squeeze False float32 <Policy \"mixed_float16\">\n",
            "block5a_se_reshape False float32 <Policy \"mixed_float16\">\n",
            "block5a_se_reduce False float32 <Policy \"mixed_float16\">\n",
            "block5a_se_expand False float32 <Policy \"mixed_float16\">\n",
            "block5a_se_excite False float32 <Policy \"mixed_float16\">\n",
            "block5a_project_conv False float32 <Policy \"mixed_float16\">\n",
            "block5a_project_bn False float32 <Policy \"mixed_float16\">\n",
            "block5b_expand_conv False float32 <Policy \"mixed_float16\">\n",
            "block5b_expand_bn False float32 <Policy \"mixed_float16\">\n",
            "block5b_expand_activation False float32 <Policy \"mixed_float16\">\n",
            "block5b_dwconv False float32 <Policy \"mixed_float16\">\n",
            "block5b_bn False float32 <Policy \"mixed_float16\">\n",
            "block5b_activation False float32 <Policy \"mixed_float16\">\n",
            "block5b_se_squeeze False float32 <Policy \"mixed_float16\">\n",
            "block5b_se_reshape False float32 <Policy \"mixed_float16\">\n",
            "block5b_se_reduce False float32 <Policy \"mixed_float16\">\n",
            "block5b_se_expand False float32 <Policy \"mixed_float16\">\n",
            "block5b_se_excite False float32 <Policy \"mixed_float16\">\n",
            "block5b_project_conv False float32 <Policy \"mixed_float16\">\n",
            "block5b_project_bn False float32 <Policy \"mixed_float16\">\n",
            "block5b_drop False float32 <Policy \"mixed_float16\">\n",
            "block5b_add False float32 <Policy \"mixed_float16\">\n",
            "block5c_expand_conv False float32 <Policy \"mixed_float16\">\n",
            "block5c_expand_bn False float32 <Policy \"mixed_float16\">\n",
            "block5c_expand_activation False float32 <Policy \"mixed_float16\">\n",
            "block5c_dwconv False float32 <Policy \"mixed_float16\">\n",
            "block5c_bn False float32 <Policy \"mixed_float16\">\n",
            "block5c_activation False float32 <Policy \"mixed_float16\">\n",
            "block5c_se_squeeze False float32 <Policy \"mixed_float16\">\n",
            "block5c_se_reshape False float32 <Policy \"mixed_float16\">\n",
            "block5c_se_reduce False float32 <Policy \"mixed_float16\">\n",
            "block5c_se_expand False float32 <Policy \"mixed_float16\">\n",
            "block5c_se_excite False float32 <Policy \"mixed_float16\">\n",
            "block5c_project_conv False float32 <Policy \"mixed_float16\">\n",
            "block5c_project_bn False float32 <Policy \"mixed_float16\">\n",
            "block5c_drop False float32 <Policy \"mixed_float16\">\n",
            "block5c_add False float32 <Policy \"mixed_float16\">\n",
            "block6a_expand_conv False float32 <Policy \"mixed_float16\">\n",
            "block6a_expand_bn False float32 <Policy \"mixed_float16\">\n",
            "block6a_expand_activation False float32 <Policy \"mixed_float16\">\n",
            "block6a_dwconv_pad False float32 <Policy \"mixed_float16\">\n",
            "block6a_dwconv False float32 <Policy \"mixed_float16\">\n",
            "block6a_bn False float32 <Policy \"mixed_float16\">\n",
            "block6a_activation False float32 <Policy \"mixed_float16\">\n",
            "block6a_se_squeeze False float32 <Policy \"mixed_float16\">\n",
            "block6a_se_reshape False float32 <Policy \"mixed_float16\">\n",
            "block6a_se_reduce False float32 <Policy \"mixed_float16\">\n",
            "block6a_se_expand False float32 <Policy \"mixed_float16\">\n",
            "block6a_se_excite False float32 <Policy \"mixed_float16\">\n",
            "block6a_project_conv False float32 <Policy \"mixed_float16\">\n",
            "block6a_project_bn False float32 <Policy \"mixed_float16\">\n",
            "block6b_expand_conv False float32 <Policy \"mixed_float16\">\n",
            "block6b_expand_bn False float32 <Policy \"mixed_float16\">\n",
            "block6b_expand_activation False float32 <Policy \"mixed_float16\">\n",
            "block6b_dwconv False float32 <Policy \"mixed_float16\">\n",
            "block6b_bn False float32 <Policy \"mixed_float16\">\n",
            "block6b_activation False float32 <Policy \"mixed_float16\">\n",
            "block6b_se_squeeze False float32 <Policy \"mixed_float16\">\n",
            "block6b_se_reshape False float32 <Policy \"mixed_float16\">\n",
            "block6b_se_reduce False float32 <Policy \"mixed_float16\">\n",
            "block6b_se_expand False float32 <Policy \"mixed_float16\">\n",
            "block6b_se_excite False float32 <Policy \"mixed_float16\">\n",
            "block6b_project_conv False float32 <Policy \"mixed_float16\">\n",
            "block6b_project_bn False float32 <Policy \"mixed_float16\">\n",
            "block6b_drop False float32 <Policy \"mixed_float16\">\n",
            "block6b_add False float32 <Policy \"mixed_float16\">\n",
            "block6c_expand_conv False float32 <Policy \"mixed_float16\">\n",
            "block6c_expand_bn False float32 <Policy \"mixed_float16\">\n",
            "block6c_expand_activation False float32 <Policy \"mixed_float16\">\n",
            "block6c_dwconv False float32 <Policy \"mixed_float16\">\n",
            "block6c_bn False float32 <Policy \"mixed_float16\">\n",
            "block6c_activation False float32 <Policy \"mixed_float16\">\n",
            "block6c_se_squeeze False float32 <Policy \"mixed_float16\">\n",
            "block6c_se_reshape False float32 <Policy \"mixed_float16\">\n",
            "block6c_se_reduce False float32 <Policy \"mixed_float16\">\n",
            "block6c_se_expand False float32 <Policy \"mixed_float16\">\n",
            "block6c_se_excite False float32 <Policy \"mixed_float16\">\n",
            "block6c_project_conv False float32 <Policy \"mixed_float16\">\n",
            "block6c_project_bn False float32 <Policy \"mixed_float16\">\n",
            "block6c_drop False float32 <Policy \"mixed_float16\">\n",
            "block6c_add False float32 <Policy \"mixed_float16\">\n",
            "block6d_expand_conv False float32 <Policy \"mixed_float16\">\n",
            "block6d_expand_bn False float32 <Policy \"mixed_float16\">\n",
            "block6d_expand_activation False float32 <Policy \"mixed_float16\">\n",
            "block6d_dwconv False float32 <Policy \"mixed_float16\">\n",
            "block6d_bn False float32 <Policy \"mixed_float16\">\n",
            "block6d_activation False float32 <Policy \"mixed_float16\">\n",
            "block6d_se_squeeze False float32 <Policy \"mixed_float16\">\n",
            "block6d_se_reshape False float32 <Policy \"mixed_float16\">\n",
            "block6d_se_reduce False float32 <Policy \"mixed_float16\">\n",
            "block6d_se_expand False float32 <Policy \"mixed_float16\">\n",
            "block6d_se_excite False float32 <Policy \"mixed_float16\">\n",
            "block6d_project_conv False float32 <Policy \"mixed_float16\">\n",
            "block6d_project_bn False float32 <Policy \"mixed_float16\">\n",
            "block6d_drop False float32 <Policy \"mixed_float16\">\n",
            "block6d_add False float32 <Policy \"mixed_float16\">\n",
            "block7a_expand_conv False float32 <Policy \"mixed_float16\">\n",
            "block7a_expand_bn False float32 <Policy \"mixed_float16\">\n",
            "block7a_expand_activation False float32 <Policy \"mixed_float16\">\n",
            "block7a_dwconv False float32 <Policy \"mixed_float16\">\n",
            "block7a_bn False float32 <Policy \"mixed_float16\">\n",
            "block7a_activation False float32 <Policy \"mixed_float16\">\n",
            "block7a_se_squeeze False float32 <Policy \"mixed_float16\">\n",
            "block7a_se_reshape False float32 <Policy \"mixed_float16\">\n",
            "block7a_se_reduce False float32 <Policy \"mixed_float16\">\n",
            "block7a_se_expand False float32 <Policy \"mixed_float16\">\n",
            "block7a_se_excite False float32 <Policy \"mixed_float16\">\n",
            "block7a_project_conv False float32 <Policy \"mixed_float16\">\n",
            "block7a_project_bn False float32 <Policy \"mixed_float16\">\n",
            "top_conv False float32 <Policy \"mixed_float16\">\n",
            "top_bn False float32 <Policy \"mixed_float16\">\n",
            "top_activation False float32 <Policy \"mixed_float16\">\n"
          ]
        }
      ]
    },
    {
      "cell_type": "code",
      "source": [
        "mixed_precision.global_policy()"
      ],
      "metadata": {
        "id": "MQxahOVRQVLf",
        "colab": {
          "base_uri": "https://localhost:8080/"
        },
        "outputId": "1deab382-2b0f-48dd-c6bd-e26dec97d8aa"
      },
      "execution_count": null,
      "outputs": [
        {
          "output_type": "execute_result",
          "data": {
            "text/plain": [
              "<Policy \"mixed_float16\">"
            ]
          },
          "metadata": {},
          "execution_count": 59
        }
      ]
    },
    {
      "cell_type": "code",
      "source": [
        "train_data"
      ],
      "metadata": {
        "id": "_59zcTeaQx3e",
        "colab": {
          "base_uri": "https://localhost:8080/"
        },
        "outputId": "8e6c5929-7337-479c-f1eb-7b832066a175"
      },
      "execution_count": null,
      "outputs": [
        {
          "output_type": "execute_result",
          "data": {
            "text/plain": [
              "<_PrefetchDataset element_spec=(TensorSpec(shape=(None, 224, 224, 3), dtype=tf.float32, name=None), TensorSpec(shape=(None,), dtype=tf.int64, name=None))>"
            ]
          },
          "metadata": {},
          "execution_count": 60
        }
      ]
    },
    {
      "cell_type": "markdown",
      "source": [
        "##Fit the feature extraction model\n",
        "if your goal is to fine-tune the pretrained model ,the general order of things to do:\n",
        "> Build a feature extraction model(train a couple of output layers with base layers frozen)\n",
        "> Fine-tune some of the frozen layers\n"
      ],
      "metadata": {
        "id": "umFBquy4SD64"
      }
    },
    {
      "cell_type": "code",
      "source": [
        "#let's fit the feature extraction model for 3 epochs\n",
        "history_for_feature_extraction = model.fit(train_data,\n",
        "                                           epochs = 3,\n",
        "                                           validation_data = test_data,\n",
        "                                           validation_steps = len(test_data),\n",
        "                                           callbacks = [create_tensorboard_callback(dir_name = 'tensorboard_callback',\n",
        "                                                                                    experiment_name = 'feature_extraction_model_for_food101'),\n",
        "                                                        model_checkpoint])#this will save the weights of feature extraction model"
      ],
      "metadata": {
        "id": "CBp9a4kYQadv",
        "colab": {
          "base_uri": "https://localhost:8080/"
        },
        "outputId": "24def83d-877f-488f-d55e-773ebe53a4bb"
      },
      "execution_count": 34,
      "outputs": [
        {
          "output_type": "stream",
          "name": "stdout",
          "text": [
            "2368/2368 [==============================] - 285s 116ms/step - loss: 1.7144 - accuracy: 0.5840 - val_loss: 1.1365 - val_accuracy: 0.7019\n",
            "Epoch 2/3\n",
            "2368/2368 [==============================] - 282s 117ms/step - loss: 1.1995 - accuracy: 0.6895 - val_loss: 1.0355 - val_accuracy: 0.7213\n",
            "Epoch 3/3\n",
            "2368/2368 [==============================] - 245s 102ms/step - loss: 1.0548 - accuracy: 0.7246 - val_loss: 1.0001 - val_accuracy: 0.7273\n"
          ]
        }
      ]
    },
    {
      "cell_type": "code",
      "source": [
        "#evaluate model on whole test data\n",
        "results_feature_extraction_model = model.evaluate(test_data)\n",
        "results_feature_extraction_model"
      ],
      "metadata": {
        "id": "DLbw9R7fTz2T",
        "colab": {
          "base_uri": "https://localhost:8080/"
        },
        "outputId": "1ac8853b-614b-469d-853f-a080c27e7b56"
      },
      "execution_count": null,
      "outputs": [
        {
          "output_type": "stream",
          "name": "stdout",
          "text": [
            "790/790 [==============================] - 64s 78ms/step - loss: 1.0002 - accuracy: 0.7297\n"
          ]
        },
        {
          "output_type": "execute_result",
          "data": {
            "text/plain": [
              "[1.0001832246780396, 0.7297029495239258]"
            ]
          },
          "metadata": {},
          "execution_count": 62
        }
      ]
    },
    {
      "cell_type": "code",
      "source": [
        "from google.colab import drive\n",
        "drive.mount('/content/drive')"
      ],
      "metadata": {
        "colab": {
          "base_uri": "https://localhost:8080/"
        },
        "id": "W8V5qqDmVRUU",
        "outputId": "07d93007-1732-48f9-ba3d-80ce6f90c52c"
      },
      "execution_count": 30,
      "outputs": [
        {
          "output_type": "stream",
          "name": "stdout",
          "text": [
            "Mounted at /content/drive\n"
          ]
        }
      ]
    },
    {
      "cell_type": "code",
      "source": [
        "model.save_weights('/content/drive/MyDrive/tensorflow models/feature_extraction_model_weights_for_food_vision/')"
      ],
      "metadata": {
        "id": "QxGFA4d96FkC"
      },
      "execution_count": 31,
      "outputs": []
    },
    {
      "cell_type": "markdown",
      "source": [
        "## Load and evaluate checkpoint weights\n",
        "\n",
        "create a function called create_model() to make a new base model cuz we want to compile the model everytime we make changes in it\n",
        "\n",
        "To evaluate our model we can use `tf.keras.models.clone_model` to clone our functional model\n",
        "\n",
        "There is some problem with `tf.keras.models.clone_model` it cannot clone the model properly and the previous and this clone model results are different . so we created a `create_model` function"
      ],
      "metadata": {
        "id": "ToqPyC13VgiJ"
      }
    },
    {
      "cell_type": "code",
      "source": [
        "#create and compile the model\n",
        "# created_model_with_loaded_weights = tf.keras.models.clone_model(model)\n",
        "# created_model_with_loaded_weights.compile(loss = 'sparse_categorical_crossentropy',\n",
        "#                                           optimizer = 'Adam',\n",
        "#                                           metrics = ['accuracy'])"
      ],
      "metadata": {
        "id": "9Ua-HNF51r0T"
      },
      "execution_count": null,
      "outputs": []
    },
    {
      "cell_type": "code",
      "source": [
        "# Clone the model we created (this resets all weights)\n",
        "# cloned_model = tf.keras.models.clone_model(model)\n",
        "# cloned_model.summary()\n",
        "\n",
        "# # Load checkpointed weights into cloned_model\n",
        "# cloned_model.load_weights(checkpoint_path)\n",
        "\n",
        "# # Compile cloned_model (with same parameters as original model)\n",
        "# cloned_model.compile(loss=\"sparse_categorical_crossentropy\",\n",
        "#                      optimizer=tf.keras.optimizers.Adam(),\n",
        "#                      metrics=[\"accuracy\"])"
      ],
      "metadata": {
        "id": "tnmM0lODR0Ek"
      },
      "execution_count": null,
      "outputs": []
    },
    {
      "cell_type": "code",
      "source": [
        "from tensorflow.keras import layers"
      ],
      "metadata": {
        "id": "evGhlC-CTSYI"
      },
      "execution_count": 27,
      "outputs": []
    },
    {
      "cell_type": "code",
      "source": [
        "def create_model():\n",
        "  # Create base model\n",
        "  input_shape = (224, 224, 3)\n",
        "  base_model = tf.keras.applications.EfficientNetB0(include_top=False)\n",
        "  base_model.trainable = False # freeze base model layers\n",
        "\n",
        "  # Create Functional model\n",
        "  inputs = layers.Input(shape=input_shape, name=\"input_layer\")\n",
        "  # Note: EfficientNetBX models have rescaling built-in but if your model didn't you could have a layer like below\n",
        "  # x = layers.Rescaling(1./255)(x)\n",
        "  x = base_model(inputs, training=False) # set base_model to inference mode only\n",
        "  x = layers.GlobalAveragePooling2D(name=\"pooling_layer\")(x)\n",
        "  x = layers.Dense(101)(x) # want one output neuron per class\n",
        "  # Separate activation of output layer so we can output float32 activations\n",
        "  outputs = layers.Activation(\"softmax\", dtype=tf.float32, name=\"softmax_float32\")(x)\n",
        "  model = tf.keras.Model(inputs, outputs)\n",
        "\n",
        "  return model\n",
        "\n"
      ],
      "metadata": {
        "id": "thtFS9v3S45F"
      },
      "execution_count": 28,
      "outputs": []
    },
    {
      "cell_type": "code",
      "source": [
        "# 2. Create and compile a new version of the original model (new weights)\n",
        "created_model = create_model()\n",
        "created_model.compile(loss=\"sparse_categorical_crossentropy\",\n",
        "                      optimizer=tf.keras.optimizers.Adam(),\n",
        "                      metrics=[\"accuracy\"])\n",
        "\n",
        "# 3. Load the saved weights\n",
        "created_model.load_weights('/content/drive/MyDrive/tensorflow models/feature_extraction_model_weights_for_food_vision/')\n",
        "\n",
        "# status.expect_partial()\n",
        "\n",
        "# 4. Evaluate the model with loaded weights\n",
        "results_created_model_with_loaded_weights = created_model.evaluate(test_data)"
      ],
      "metadata": {
        "colab": {
          "base_uri": "https://localhost:8080/"
        },
        "id": "-x_2Ksml4QYN",
        "outputId": "16bed928-5bd6-4622-a6a3-0a81c5b79bcf"
      },
      "execution_count": 36,
      "outputs": [
        {
          "output_type": "stream",
          "name": "stdout",
          "text": [
            "790/790 [==============================] - 67s 75ms/step - loss: 1.0002 - accuracy: 0.7297\n"
          ]
        }
      ]
    },
    {
      "cell_type": "markdown",
      "source": [
        "so finally i have never faced this many errors or an error who had took so long to resolve . so it's simple if things don't work take a break come again , clear the cache and rerun the things most of the time it gets solved if there is no error in the code"
      ],
      "metadata": {
        "id": "LHsqGT7kG3QW"
      }
    },
    {
      "cell_type": "code",
      "source": [
        "import numpy as np\n",
        "np.isclose(results_feature_extraction_model,results_created_model_with_loaded_weights)"
      ],
      "metadata": {
        "id": "Tmp_DmoD9w3E",
        "colab": {
          "base_uri": "https://localhost:8080/"
        },
        "outputId": "b13953d3-b09c-470b-aed1-959dd8279aa9"
      },
      "execution_count": null,
      "outputs": [
        {
          "output_type": "execute_result",
          "data": {
            "text/plain": [
              "array([ True,  True])"
            ]
          },
          "metadata": {},
          "execution_count": 69
        }
      ]
    },
    {
      "cell_type": "markdown",
      "source": [
        "##Fine-tuning the big model\n",
        "\n",
        "1. so we have our fine-tuning model now we can perform experiment on it and if the results doesn't seem improving we can reset it again to the feature extraction"
      ],
      "metadata": {
        "id": "Bjllzl4PUGRe"
      }
    },
    {
      "cell_type": "code",
      "source": [
        "#check the dtype policy to see it is ready for mixed precision\n",
        "for layer in created_model.layers[1].layers[-5:]:\n",
        "  print(layer.name,layer.trainable,layer.dtype,layer.dtype_policy)"
      ],
      "metadata": {
        "id": "CXwWBbXCUT31",
        "colab": {
          "base_uri": "https://localhost:8080/"
        },
        "outputId": "41c3d76e-6326-4a58-9124-3b45e97da1be"
      },
      "execution_count": null,
      "outputs": [
        {
          "output_type": "stream",
          "name": "stdout",
          "text": [
            "block7a_project_conv False float32 <Policy \"mixed_float16\">\n",
            "block7a_project_bn False float32 <Policy \"mixed_float16\">\n",
            "top_conv False float32 <Policy \"mixed_float16\">\n",
            "top_bn False float32 <Policy \"mixed_float16\">\n",
            "top_activation False float32 <Policy \"mixed_float16\">\n"
          ]
        }
      ]
    },
    {
      "cell_type": "markdown",
      "source": [
        "so let's save the model so whenever we need we can start it from the loaded model"
      ],
      "metadata": {
        "id": "bXECAlYBWMX0"
      }
    },
    {
      "cell_type": "code",
      "source": [
        "## Saving model to Google Drive (optional)\n",
        "# Create save path to drive\n",
        "save_dir = \"drive/MyDrive/tensorflow_course/food_vision/07_efficientnetb0_feature_extract_model_mixed_precision/\"\n",
        "# os.makedirs(save_dir) # Make directory if it doesn't exist"
      ],
      "metadata": {
        "id": "OcdhDbTGYQ9d"
      },
      "execution_count": null,
      "outputs": []
    },
    {
      "cell_type": "code",
      "source": [
        "# Save model\n",
        "created_model.save(save_dir) #this will save the feature extraction cloned model to google drive"
      ],
      "metadata": {
        "id": "-PR48pL446_R"
      },
      "execution_count": null,
      "outputs": []
    },
    {
      "cell_type": "markdown",
      "source": [
        ">Here comes our loaded model on which we gonna perform fine tuning"
      ],
      "metadata": {
        "id": "-SVux_0a5Nel"
      }
    },
    {
      "cell_type": "code",
      "source": [
        "#Run this commnad to directly load the model from the google drive\n",
        "loaded_model = tf.keras.models.load_model('/content/drive/MyDrive/tensorflow/07_efficientnetb0_feature_extract_model_mixed_precision/')"
      ],
      "metadata": {
        "id": "ZT05U7IbEjG2"
      },
      "execution_count": null,
      "outputs": []
    },
    {
      "cell_type": "code",
      "source": [
        "loaded_model.summary()"
      ],
      "metadata": {
        "colab": {
          "base_uri": "https://localhost:8080/"
        },
        "id": "QyU418ITRJSq",
        "outputId": "b072710a-1ba1-4066-ffb5-fc1a9bab652e"
      },
      "execution_count": null,
      "outputs": [
        {
          "output_type": "stream",
          "name": "stdout",
          "text": [
            "Model: \"model_2\"\n",
            "_________________________________________________________________\n",
            " Layer (type)                Output Shape              Param #   \n",
            "=================================================================\n",
            " input_layer (InputLayer)    [(None, 224, 224, 3)]     0         \n",
            "                                                                 \n",
            " efficientnetb0 (Functional  (None, None, None, 1280   4049571   \n",
            " )                           )                                   \n",
            "                                                                 \n",
            " pooling_layer (GlobalAvera  (None, 1280)              0         \n",
            " gePooling2D)                                                    \n",
            "                                                                 \n",
            " dense_2 (Dense)             (None, 101)               129381    \n",
            "                                                                 \n",
            " softmax_float32 (Activatio  (None, 101)               0         \n",
            " n)                                                              \n",
            "                                                                 \n",
            "=================================================================\n",
            "Total params: 4178952 (15.94 MB)\n",
            "Trainable params: 129381 (505.39 KB)\n",
            "Non-trainable params: 4049571 (15.45 MB)\n",
            "_________________________________________________________________\n"
          ]
        }
      ]
    },
    {
      "cell_type": "code",
      "source": [
        "#lets check the accuracy score of our downloaded model\n",
        "results_for_downloaded_model = loaded_model.evaluate(test_data)"
      ],
      "metadata": {
        "colab": {
          "base_uri": "https://localhost:8080/"
        },
        "id": "HL9hqjWgFEjV",
        "outputId": "72186f22-e684-42ad-8767-f50812c2e908"
      },
      "execution_count": null,
      "outputs": [
        {
          "output_type": "stream",
          "name": "stdout",
          "text": [
            "790/790 [==============================] - 67s 79ms/step - loss: 1.0002 - accuracy: 0.7297\n"
          ]
        }
      ]
    },
    {
      "cell_type": "code",
      "source": [
        "import numpy as np\n",
        "np.isclose(results_created_model_with_loaded_weights,results_for_downloaded_model)\n"
      ],
      "metadata": {
        "id": "xUoTibJ8WwqX",
        "colab": {
          "base_uri": "https://localhost:8080/"
        },
        "outputId": "0b964769-0150-4faf-8544-efcb97211a87"
      },
      "execution_count": null,
      "outputs": [
        {
          "output_type": "execute_result",
          "data": {
            "text/plain": [
              "array([ True,  True])"
            ]
          },
          "metadata": {},
          "execution_count": 62
        }
      ]
    },
    {
      "cell_type": "code",
      "source": [
        "##Making predictions with our trained model\n",
        "pred_probs = loaded_model.predict(test_data)"
      ],
      "metadata": {
        "colab": {
          "base_uri": "https://localhost:8080/"
        },
        "id": "pHWIWfnRFth2",
        "outputId": "7bde99c1-60a8-43c4-a8ed-68f88d5f4483"
      },
      "execution_count": null,
      "outputs": [
        {
          "output_type": "stream",
          "name": "stdout",
          "text": [
            "790/790 [==============================] - 61s 73ms/step\n"
          ]
        }
      ]
    },
    {
      "cell_type": "code",
      "source": [
        "len(test_data)"
      ],
      "metadata": {
        "colab": {
          "base_uri": "https://localhost:8080/"
        },
        "id": "ktlaMhTCIIrs",
        "outputId": "37e9b646-ba8d-43ad-d9ef-45c956e6fc42"
      },
      "execution_count": null,
      "outputs": [
        {
          "output_type": "execute_result",
          "data": {
            "text/plain": [
              "790"
            ]
          },
          "metadata": {},
          "execution_count": 35
        }
      ]
    },
    {
      "cell_type": "code",
      "source": [
        "len(pred_probs)#there is single for each image"
      ],
      "metadata": {
        "colab": {
          "base_uri": "https://localhost:8080/"
        },
        "id": "4vfZDdIQIMFn",
        "outputId": "e6aa2b48-990a-43d4-9268-0ecd4c40c742"
      },
      "execution_count": null,
      "outputs": [
        {
          "output_type": "execute_result",
          "data": {
            "text/plain": [
              "25250"
            ]
          },
          "metadata": {},
          "execution_count": 36
        }
      ]
    },
    {
      "cell_type": "code",
      "source": [
        "# we get one prediction probabilty per class (in our case there's 101 prediction probabilty)\n",
        "print(f'Number of prediction probability for class 0 : {len(pred_probs[0])}')\n",
        "print(f'what prediction probability sample looks like :\\n {pred_probs[0]}')\n",
        "print(f'The class with the highest probability by the model for sample 0: {pred_probs[0].argmax()}')"
      ],
      "metadata": {
        "colab": {
          "base_uri": "https://localhost:8080/"
        },
        "id": "iCGPBcxRIxBo",
        "outputId": "326db16f-c325-442d-b732-55ee9f7df233"
      },
      "execution_count": null,
      "outputs": [
        {
          "output_type": "stream",
          "name": "stdout",
          "text": [
            "Number of prediction probability for class 0 : 101\n",
            "what prediction probability sample looks like :\n",
            " [2.96814324e-06 8.70423662e-08 9.78643726e-08 8.50964010e-09\n",
            " 3.24302043e-08 5.39930802e-08 5.59250388e-08 1.58694490e-07\n",
            " 7.90211345e-08 2.26841941e-08 2.06108153e-09 3.54095278e-08\n",
            " 2.26841941e-08 3.78407741e-08 3.35906094e-08 1.26479392e-06\n",
            " 3.88897590e-08 2.51128625e-07 4.18308503e-07 4.74487893e-10\n",
            " 1.17031448e-06 4.74629616e-08 1.32464777e-07 2.91840259e-08\n",
            " 4.68960037e-10 6.27461461e-09 1.01449995e-08 8.61123439e-08\n",
            " 9.36288491e-10 1.49955753e-07 1.02560975e-07 1.91393514e-08\n",
            " 3.97073882e-06 9.99965072e-01 6.60147670e-09 1.47897445e-08\n",
            " 1.39910682e-07 7.31917225e-07 1.38395135e-08 1.97469010e-08\n",
            " 2.44354879e-07 3.42480111e-09 2.54050914e-08 5.39385553e-07\n",
            " 1.43110140e-06 3.10557056e-07 5.37665301e-10 3.15447608e-07\n",
            " 1.64557991e-06 8.49430393e-08 1.23591377e-07 9.84394717e-08\n",
            " 2.85122354e-07 6.13017903e-08 7.26339433e-10 2.23761685e-08\n",
            " 6.38683915e-08 3.20258749e-07 1.32574431e-08 2.00970831e-08\n",
            " 5.83630144e-10 8.21567081e-09 3.69641953e-08 1.22989405e-07\n",
            " 1.40547866e-06 5.72982685e-07 1.07346010e-09 7.49619744e-08\n",
            " 1.30499545e-09 2.84427102e-07 5.98817422e-08 1.18375629e-08\n",
            " 8.15295280e-08 1.74291799e-07 4.61063837e-06 6.60147670e-09\n",
            " 3.56765950e-10 3.68076030e-07 7.88669396e-08 8.15173529e-09\n",
            " 5.45148016e-09 2.98178122e-08 4.06032825e-07 1.07152553e-08\n",
            " 1.07903652e-07 1.02476167e-06 7.96408983e-08 4.34865854e-07\n",
            " 2.70516534e-06 1.63044966e-09 2.54969129e-10 7.77844100e-09\n",
            " 1.59471256e-07 6.67884194e-07 2.00548755e-09 1.00872356e-07\n",
            " 6.18201000e-07 1.78250858e-07 2.13514912e-08 2.52642121e-06\n",
            " 6.47475957e-08]\n",
            "The class with the highest probability by the model for sample 0: 33\n"
          ]
        }
      ]
    },
    {
      "cell_type": "code",
      "source": [
        "class_names[33]"
      ],
      "metadata": {
        "colab": {
          "base_uri": "https://localhost:8080/",
          "height": 35
        },
        "id": "uvxDqvUTI-IY",
        "outputId": "838fed67-c6b1-4541-80ab-88a9dd70e39a"
      },
      "execution_count": 37,
      "outputs": [
        {
          "output_type": "execute_result",
          "data": {
            "text/plain": [
              "'edamame'"
            ],
            "application/vnd.google.colaboratory.intrinsic+json": {
              "type": "string"
            }
          },
          "metadata": {},
          "execution_count": 37
        }
      ]
    },
    {
      "cell_type": "code",
      "source": [
        "#to get our test labels we need to unravel our test_data batch_dataset\n",
        "y_labels = []\n",
        "for images, labels in test_data.unbatch():\n",
        "  # print(len(labels))\n",
        "  y_labels.append(labels.numpy().argmax())#Currently test labels look like [0 0 0 1 ...] so the argmax index to the highest value\n",
        "y_labels[:10]"
      ],
      "metadata": {
        "colab": {
          "base_uri": "https://localhost:8080/"
        },
        "id": "nlFAFezqIV9v",
        "outputId": "ac50c501-ed28-4874-e81a-12a79761bac4"
      },
      "execution_count": null,
      "outputs": [
        {
          "output_type": "execute_result",
          "data": {
            "text/plain": [
              "[0, 0, 0, 0, 0, 0, 0, 0, 0, 0]"
            ]
          },
          "metadata": {},
          "execution_count": 39
        }
      ]
    },
    {
      "cell_type": "code",
      "source": [
        "#there is prediction probability of each image\n",
        "pred_probs[0]"
      ],
      "metadata": {
        "colab": {
          "base_uri": "https://localhost:8080/"
        },
        "id": "EVSKxiChJope",
        "outputId": "cc0b36d5-b249-41c6-a45c-87bdcd935c35"
      },
      "execution_count": null,
      "outputs": [
        {
          "output_type": "execute_result",
          "data": {
            "text/plain": [
              "array([1.0567126e-04, 1.4854005e-06, 4.1000984e-08, 2.7526758e-08,\n",
              "       4.4519434e-06, 1.0366671e-08, 2.9540720e-06, 2.9240543e-09,\n",
              "       5.7942339e-07, 6.5519380e-08, 1.8811124e-07, 1.7127724e-07,\n",
              "       9.2397144e-08, 8.8857462e-08, 6.3522525e-06, 4.4936197e-09,\n",
              "       6.1809110e-06, 4.7935004e-08, 2.2642892e-08, 3.0754579e-11,\n",
              "       7.6003808e-08, 1.9678359e-06, 9.4049705e-07, 9.9425298e-01,\n",
              "       1.8298263e-09, 6.0850853e-06, 1.0740813e-06, 1.9566316e-05,\n",
              "       2.0616588e-08, 5.5405330e-06, 4.4599815e-07, 2.3096377e-06,\n",
              "       2.2999465e-08, 1.3311070e-08, 2.2772557e-09, 2.2291848e-08,\n",
              "       1.4505581e-08, 6.7214290e-07, 4.2724002e-07, 4.0051194e-08,\n",
              "       2.2171540e-05, 3.8435961e-09, 7.3092153e-08, 1.7402641e-05,\n",
              "       4.3658356e-06, 9.6860285e-06, 1.4310748e-07, 7.6599918e-08,\n",
              "       7.9317092e-10, 7.4131516e-05, 1.2220396e-05, 1.1450760e-09,\n",
              "       1.5936022e-06, 5.7837919e-06, 6.6411392e-09, 5.7164089e-06,\n",
              "       1.2407281e-08, 2.8460320e-07, 2.3463597e-05, 5.9191834e-08,\n",
              "       6.7457218e-09, 1.4392699e-08, 9.9905137e-08, 9.2339545e-04,\n",
              "       3.3919618e-09, 2.3865432e-09, 9.1293423e-10, 2.2649654e-06,\n",
              "       1.0053724e-04, 1.0026621e-09, 1.2674836e-09, 8.6253338e-11,\n",
              "       2.0024339e-07, 1.1256276e-06, 1.5897805e-09, 4.7462083e-09,\n",
              "       2.0096711e-09, 1.7810015e-07, 6.8767166e-11, 6.7986297e-09,\n",
              "       1.7091752e-08, 3.9430255e-08, 1.5964795e-07, 3.6960514e-03,\n",
              "       8.3473864e-08, 1.6056214e-08, 7.7061571e-07, 1.5265774e-06,\n",
              "       8.0735720e-09, 1.4734011e-08, 1.2119868e-08, 9.0067207e-09,\n",
              "       1.9067228e-08, 1.2508327e-06, 6.0194312e-04, 1.5691299e-05,\n",
              "       1.5774088e-09, 1.0756993e-09, 3.5568690e-05, 8.6981754e-07,\n",
              "       2.0266429e-05], dtype=float32)"
            ]
          },
          "metadata": {},
          "execution_count": 25
        }
      ]
    },
    {
      "cell_type": "code",
      "source": [
        "#lets get our y_preds\n",
        "y_preds = pred_probs.argmax(axis = 1)\n",
        "#y prediction classes\n",
        "y_preds[:10]"
      ],
      "metadata": {
        "colab": {
          "base_uri": "https://localhost:8080/"
        },
        "id": "y8AD1U_7InI2",
        "outputId": "8fed627d-380e-49c1-bf03-5fd3e81de493"
      },
      "execution_count": null,
      "outputs": [
        {
          "output_type": "execute_result",
          "data": {
            "text/plain": [
              "array([23, 16,  1, 70,  7, 31, 64, 27,  5, 49])"
            ]
          },
          "metadata": {},
          "execution_count": 26
        }
      ]
    },
    {
      "cell_type": "code",
      "source": [
        "#to get better accuracy the test data should not be shuffled or use the random seed to get same random images\n",
        "from sklearn.metrics import accuracy_score\n",
        "accuracy = accuracy_score(y_true = y_labels,\n",
        "                          y_pred = y_preds)\n",
        "accuracy"
      ],
      "metadata": {
        "colab": {
          "base_uri": "https://localhost:8080/"
        },
        "id": "ejrB4PqOKXwJ",
        "outputId": "fd2988d2-e22d-488b-8a00-f9c48f745c0d"
      },
      "execution_count": null,
      "outputs": [
        {
          "output_type": "execute_result",
          "data": {
            "text/plain": [
              "0.0100990099009901"
            ]
          },
          "metadata": {},
          "execution_count": 72
        }
      ]
    },
    {
      "cell_type": "markdown",
      "source": [
        "as our test data is shuffled it can't help us getting the good accuracy score"
      ],
      "metadata": {
        "id": "ZFuicSIPNCRi"
      }
    },
    {
      "cell_type": "markdown",
      "source": [
        "##Preparing our model layers for Fine-tuning\n",
        "\n",
        ">🔑 Note: It's worth remembering a traditional workflow for fine-tuning is to freeze a pre-trained base model and then train only the output layers for a few iterations so their weights can be updated inline with your custom data (feature extraction). And then unfreeze a number or all of the layers in the base model and continue training until the model stops improving."
      ],
      "metadata": {
        "id": "kNpA-sHdNQNo"
      }
    },
    {
      "cell_type": "code",
      "source": [
        "#feature_extraction model\n",
        "loaded_model.layers"
      ],
      "metadata": {
        "colab": {
          "base_uri": "https://localhost:8080/"
        },
        "id": "z7rQy7I4QAa2",
        "outputId": "c4519928-e05d-4594-bd1e-e75b95dadc05"
      },
      "execution_count": null,
      "outputs": [
        {
          "output_type": "execute_result",
          "data": {
            "text/plain": [
              "[<keras.src.engine.input_layer.InputLayer at 0x7ff3d033bac0>,\n",
              " <keras.src.engine.functional.Functional at 0x7ff3fc6740d0>,\n",
              " <keras.src.layers.pooling.global_average_pooling2d.GlobalAveragePooling2D at 0x7ff3fc676b30>,\n",
              " <keras.src.layers.core.dense.Dense at 0x7ff3d0339390>,\n",
              " <keras.src.layers.core.activation.Activation at 0x7ff3d033bca0>]"
            ]
          },
          "metadata": {},
          "execution_count": 40
        }
      ]
    },
    {
      "cell_type": "code",
      "source": [
        "#set all the layers trainable (if your model is small less than 100 classes then train only few layers otherwise it may cause overfitting)\n",
        "for i,layers in enumerate(loaded_model.layers):\n",
        "  layers.trainable = True\n",
        "  print(i,layers.name,layers.trainable,layers.dtype,layers.dtype_policy)"
      ],
      "metadata": {
        "colab": {
          "base_uri": "https://localhost:8080/"
        },
        "id": "vwlzibtnQTf-",
        "outputId": "90e5d93e-0aed-45b6-dc61-f81419a736aa"
      },
      "execution_count": null,
      "outputs": [
        {
          "output_type": "stream",
          "name": "stdout",
          "text": [
            "0 input_layer True float32 <Policy \"float32\">\n",
            "1 efficientnetb0 True float32 <Policy \"mixed_float16\">\n",
            "2 pooling_layer True float32 <Policy \"mixed_float16\">\n",
            "3 dense_2 True float32 <Policy \"mixed_float16\">\n",
            "4 softmax_float32 True float32 <Policy \"float32\">\n"
          ]
        }
      ]
    },
    {
      "cell_type": "markdown",
      "source": [
        "So alright it seems all of our loaded model layers are trainable.should we dig deeper to layer to check it and check the dtype policy"
      ],
      "metadata": {
        "id": "9arUYzK27vUb"
      }
    },
    {
      "cell_type": "code",
      "source": [
        "#check the efficientnet layer\n",
        "for i, layers in enumerate(loaded_model.layers[1].layers[:10]):\n",
        "  print(i,layers.name,layers.trainable,layers.dtype,layers.dtype_policy)\n"
      ],
      "metadata": {
        "colab": {
          "base_uri": "https://localhost:8080/"
        },
        "id": "Lz8ptOuC7uX-",
        "outputId": "960da687-c46b-437e-d465-5292c7c5753a"
      },
      "execution_count": null,
      "outputs": [
        {
          "output_type": "stream",
          "name": "stdout",
          "text": [
            "0 input_3 True float32 <Policy \"float32\">\n",
            "1 rescaling_4 True float32 <Policy \"mixed_float16\">\n",
            "2 normalization_2 True float32 <Policy \"mixed_float16\">\n",
            "3 rescaling_5 True float32 <Policy \"mixed_float16\">\n",
            "4 stem_conv_pad True float32 <Policy \"mixed_float16\">\n",
            "5 stem_conv True float32 <Policy \"mixed_float16\">\n",
            "6 stem_bn True float32 <Policy \"mixed_float16\">\n",
            "7 stem_activation True float32 <Policy \"mixed_float16\">\n",
            "8 block1a_dwconv True float32 <Policy \"mixed_float16\">\n",
            "9 block1a_bn True float32 <Policy \"mixed_float16\">\n"
          ]
        }
      ]
    },
    {
      "cell_type": "markdown",
      "source": [
        "Wonderful it look like each of our models layer is trainable (unfrozen) and has a dtype policy of `mixed_float16`"
      ],
      "metadata": {
        "id": "P_uYSWxN8kQl"
      }
    },
    {
      "cell_type": "markdown",
      "source": [
        ">**Note:** Now we will training our fine-tuning model with 101 food classes our goal is to beat deepfood accuracy .\n",
        "\n",
        "so the model we are will train it for 100 epochs which is default and it surely gonna take a long time so we need to introduce few callbacks which will help us to train this huge model\n",
        "\n",
        "The EarlyStopping callback monitors a specified model performance metric (e.g. val_loss) and when it stops improving for a specified number of epochs, automatically stops training."
      ],
      "metadata": {
        "id": "9aEBdo_4USAR"
      }
    },
    {
      "cell_type": "code",
      "source": [
        "# Setup EarlyStopping callback to stop training if model's val_loss doesn't improve for 3 epochs\n",
        "# Monitor the val_loss and stop training if it doesn't improve for 3 epochs\n",
        "# See: https://www.tensorflow.org/api_docs/python/tf/keras/callbacks/EarlyStopping for more\n",
        "early_stopping = tf.keras.callbacks.EarlyStopping(monitor = 'val_loss',\n",
        "                                                  patience = 3,\n",
        "                                                  )\n",
        "\n",
        "#Create modelcheckpoint callback to save the best model during fine-tuning\n",
        "checkpoint_dir = '/content/drive/MyDrive/tensorflow/fine_tuning.h5/checkpoint.ckpt'\n",
        "\n",
        "model_checkpoint = tf.keras.callbacks.ModelCheckpoint(filepath = checkpoint_dir,\n",
        "                                                      monitor = 'val_loss',\n",
        "                                                      save_best_only = True)#it will save the best model and the previous model will be overwritten\n"
      ],
      "metadata": {
        "id": "YrXnAXLk62RZ"
      },
      "execution_count": null,
      "outputs": []
    },
    {
      "cell_type": "markdown",
      "source": [
        "Now we are all set for the fine tuning but we got a see one more callback `ReduceLRonplateau`\n",
        "\n",
        "Remember how the learning rate is the most important model hyperparameter you can tune? (if not, treat this as a reminder).\n",
        "\n",
        "Well, the ReduceLROnPlateau callback helps to tune the learning rate for you.\n",
        "\n",
        "Like the ModelCheckpoint and EarlyStopping callbacks, the ReduceLROnPlateau callback montiors a specified metric and when that metric stops improving, it reduces the learning rate by a specified factor (e.g. divides the learning rate by 10).\n",
        "\n",
        "we reduce it so model can go deeper and it should not update the efficientnet model patterns\n",
        "\n",
        "\n",
        "🤔 Question: Why lower the learning rate?\n",
        "\n",
        "Imagine having a coin at the back of the couch and you're trying to grab with your fingers.\n",
        "\n",
        "Now think of the learning rate as the size of the movements your hand makes towards the coin.\n",
        "\n",
        "The closer you get, the smaller you want your hand movements to be, otherwise the coin will be lost.\n",
        "\n",
        "Our model's ideal performance is the equivalent of grabbing the coin. So as training goes on and our model gets closer and closer to it's ideal performance (also called convergence), we want the amount it learns to be less and less.\n",
        "\n",
        "To do this we'll create an instance of the ReduceLROnPlateau callback to monitor the validation loss just like the EarlyStopping callback.\n",
        "\n",
        "Once the validation loss stops improving for two or more epochs, we'll reduce the learning rate by a factor of 5 (e.g. 0.001 to 0.0002).\n",
        "\n",
        "And to make sure the learning rate doesn't get too low (and potentially result in our model learning nothing), we'll set the minimum learning rate to 1e-7."
      ],
      "metadata": {
        "id": "AUsK8fw6_ByX"
      }
    },
    {
      "cell_type": "code",
      "source": [
        "#create a ReduceLRonplateau callback\n",
        "reduce_lr = tf.keras.callbacks.ReduceLROnPlateau(\n",
        "                 monitor=\"val_loss\",\n",
        "                  factor=0.2, # multiply the learning rate by 0.2 (reduce by 5x)\n",
        "                  patience=2,\n",
        "                  verbose=1, # print out when learning rate goes down\n",
        "                  min_lr=1e-7 #to see our model lr should not get so less that it stops learning\n",
        "              )"
      ],
      "metadata": {
        "id": "hODdFZhT-tBM"
      },
      "execution_count": null,
      "outputs": []
    },
    {
      "cell_type": "code",
      "source": [
        "#compile the model and use `sparse_categorical_crossentropy` and lower the adam learning rate by 10 x\n",
        "loaded_model.compile(loss = 'sparse_categorical_crossentropy',#as we don't have hot encoded labels they're in int\n",
        "                     optimizer = tf.keras.optimizers.Adam(0.0001), #reduce it by 10 x from the default\n",
        "                     metrics = ['accuracy'])"
      ],
      "metadata": {
        "id": "82ezw3z7BFA1"
      },
      "execution_count": null,
      "outputs": []
    },
    {
      "cell_type": "markdown",
      "source": [
        ">🔑**Note:** So running below code will fine-tune all of the pretrained weights of the base model so using unoptimized data and without mixed precision it will surely take a long time for all of the food101 daat\n",
        "\n",
        "so let's do it...\n"
      ],
      "metadata": {
        "id": "DphjAi-dCmfa"
      }
    },
    {
      "cell_type": "code",
      "source": [
        "#start to fine_tune all of the layers\n",
        "history_101_food_classes_fine_tune = loaded_model.fit(train_data,\n",
        "                                                      epochs = 100,\n",
        "                                                      steps_per_epoch = len(train_data),\n",
        "                                                      validation_data = test_data,\n",
        "                                                      validation_steps = int(0.15 * len(test_data)),\n",
        "                                                      callbacks = [create_tensorboard_callback(dir_name = 'tensorboard_callback',\n",
        "                                                                                               experiment_name = 'efficientnet_fine_tune_model'),\n",
        "                                                                   model_checkpoint,#save the best model during training\n",
        "                                                                   early_stopping,#stops the model of x epochs stops improvement\n",
        "                                                                   reduce_lr #reduce the learning rate if x epochs of no improvement seen\n",
        "                                                                   ])"
      ],
      "metadata": {
        "colab": {
          "base_uri": "https://localhost:8080/"
        },
        "id": "U1wSDpK3CJUk",
        "outputId": "bf3f56a5-4f40-4166-f906-4a6016a46dfc"
      },
      "execution_count": null,
      "outputs": [
        {
          "output_type": "stream",
          "name": "stdout",
          "text": [
            "Saving TensorBoard log files to: tensorboard_callback/efficientnet_fine_tune_model/20230701-163953\n",
            "Epoch 1/100\n",
            "2368/2368 [==============================] - 458s 173ms/step - loss: 0.8708 - accuracy: 0.7658 - val_loss: 0.7782 - val_accuracy: 0.7826 - lr: 1.0000e-04\n",
            "Epoch 2/100\n",
            "2368/2368 [==============================] - 411s 172ms/step - loss: 0.5369 - accuracy: 0.8512 - val_loss: 0.7560 - val_accuracy: 0.7926 - lr: 1.0000e-04\n",
            "Epoch 3/100\n",
            "2368/2368 [==============================] - 378s 158ms/step - loss: 0.3018 - accuracy: 0.9149 - val_loss: 0.8538 - val_accuracy: 0.7860 - lr: 1.0000e-04\n",
            "Epoch 4/100\n",
            "2368/2368 [==============================] - ETA: 0s - loss: 0.1588 - accuracy: 0.9531\n",
            "Epoch 4: ReduceLROnPlateau reducing learning rate to 1.9999999494757503e-05.\n",
            "2368/2368 [==============================] - 379s 159ms/step - loss: 0.1588 - accuracy: 0.9531 - val_loss: 0.9069 - val_accuracy: 0.7924 - lr: 1.0000e-04\n",
            "Epoch 5/100\n",
            "2368/2368 [==============================] - 374s 157ms/step - loss: 0.0317 - accuracy: 0.9927 - val_loss: 1.0010 - val_accuracy: 0.8083 - lr: 2.0000e-05\n"
          ]
        }
      ]
    },
    {
      "cell_type": "code",
      "source": [
        "#so lets load our saved model from the drive\n",
        "loaded_fine_tune_model = tf.keras.models.load_model(checkpoint_dir)"
      ],
      "metadata": {
        "id": "a8vdBp_XevhR"
      },
      "execution_count": null,
      "outputs": []
    },
    {
      "cell_type": "code",
      "source": [
        "loaded_fine_tune_model.summary()"
      ],
      "metadata": {
        "colab": {
          "base_uri": "https://localhost:8080/"
        },
        "id": "cyImDMq7fODV",
        "outputId": "37fa7fdf-9cbc-41b0-eaa4-6fe8515b54a8"
      },
      "execution_count": null,
      "outputs": [
        {
          "output_type": "stream",
          "name": "stdout",
          "text": [
            "Model: \"model_2\"\n",
            "_________________________________________________________________\n",
            " Layer (type)                Output Shape              Param #   \n",
            "=================================================================\n",
            " input_layer (InputLayer)    [(None, 224, 224, 3)]     0         \n",
            "                                                                 \n",
            " efficientnetb0 (Functional  (None, None, None, 1280   4049571   \n",
            " )                           )                                   \n",
            "                                                                 \n",
            " pooling_layer (GlobalAvera  (None, 1280)              0         \n",
            " gePooling2D)                                                    \n",
            "                                                                 \n",
            " dense_2 (Dense)             (None, 101)               129381    \n",
            "                                                                 \n",
            " softmax_float32 (Activatio  (None, 101)               0         \n",
            " n)                                                              \n",
            "                                                                 \n",
            "=================================================================\n",
            "Total params: 4178952 (15.94 MB)\n",
            "Trainable params: 4136929 (15.78 MB)\n",
            "Non-trainable params: 42023 (164.14 KB)\n",
            "_________________________________________________________________\n"
          ]
        }
      ]
    },
    {
      "cell_type": "code",
      "source": [
        "#let's evaluate our fine tune model with the full test data\n",
        "results_loaded_fine_tune_model = loaded_fine_tune_model.evaluate(test_data)"
      ],
      "metadata": {
        "colab": {
          "base_uri": "https://localhost:8080/"
        },
        "id": "RmmdIw9hfTfM",
        "outputId": "02c9c67e-0783-4099-fb74-198bbd2c8cf7"
      },
      "execution_count": null,
      "outputs": [
        {
          "output_type": "stream",
          "name": "stdout",
          "text": [
            "790/790 [==============================] - 64s 76ms/step - loss: 0.7610 - accuracy: 0.7898\n"
          ]
        }
      ]
    },
    {
      "cell_type": "markdown",
      "source": [
        "Excellent! Our saved model is performing as expected (better results than the DeepFood paper!).we already beatt the deepfood paper and in very less time\n",
        "\n",
        "just trained a computer vision model with competitive performance to a research paper and in far less time (our model took ~20 minutes to train versus DeepFood's quoted 2-3 days)."
      ],
      "metadata": {
        "id": "KSizwi0NekzC"
      }
    },
    {
      "cell_type": "code",
      "source": [
        "# Upload experiment results to TensorBoard (uncomment to run)\n",
        "# !tensorboard dev upload --logdir ./tensorboard_callback \\\n",
        "#   --name \"Fine-tuning EfficientNetB0 on all Food101 Data\" \\\n",
        "#   --description \"Training results for fine-tuning EfficientNetB0 on Food101 Data with learning rate 0.0001\" \\\n",
        "#   --one_shot"
      ],
      "metadata": {
        "id": "yIP1w7aigSJ1"
      },
      "execution_count": null,
      "outputs": []
    },
    {
      "cell_type": "markdown",
      "source": [
        "so we uploaded  our tensorboard results let's have an look towards them\n",
        "https://tensorboard.dev/experiment/KjMMQqy1RzeFwIoFzD4kNg/"
      ],
      "metadata": {
        "id": "Ximuqjovg7aq"
      }
    }
  ]
}